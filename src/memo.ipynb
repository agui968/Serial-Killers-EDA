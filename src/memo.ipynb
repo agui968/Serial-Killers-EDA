{
 "cells": [
  {
   "cell_type": "markdown",
   "metadata": {},
   "source": [
    "![img](utils/usak.webp)"
   ]
  },
  {
   "cell_type": "markdown",
   "metadata": {},
   "source": [
    "# ¿Es determinante el entorno  para los asesinos en serie?\n",
    "##### Memoria del proyecto"
   ]
  },
  {
   "cell_type": "markdown",
   "metadata": {},
   "source": [
    "## Índice\n",
    "1. [Introducción](#introducción)\n",
    "2. [Hipótesis](#hipótesis)\n",
    "3. [Limpieza de datos](#limpieza-de-datos)\n",
    "4. [Análisis de los datos y comprobación de hipótesis](#Análisis-de-los-datos-y-comprobación-de-hipótesis)\n",
    "    \n",
    "    4.1. Países en los que están más presentes o cometen más crímenes\n",
    "\n",
    "    4.2. Clase socioeconómica\n",
    "\n",
    "    4.3. Densidad de población\n",
    "\n",
    "    4.4. ¿Realmente son más comunes en América y Europa?\n",
    "\n",
    "    4.5. ¿En qué países les descubren antes?\n",
    "5. [Visualización de los datos](#visualizaciones)\n",
    "6. [Conclusiones y consideraciones](#conclusiones)"
   ]
  },
  {
   "cell_type": "markdown",
   "metadata": {},
   "source": [
    "## Introducción\n",
    "Un asesino en serie no comete crímenes pasionales, ni suele elegir a sus víctimas por rencor ni para ajustar cuentas. De hecho, puede llegar a ser metódico y tener templanza.\n",
    "Entonces, ¿cómo surge este perfil de asesino? ¿Qué factores los motiva a actuar?\n",
    "\n",
    "Este análisis de datos exploratorio se centrará en el estudio de múltiples asesinos en serie para determinar patrones que puedan desencadenar sus conductas. Sobre todo, los factores en los que se centrará son:\n",
    "\n",
    "+ País de procedencia\n",
    "+ Número de víctimas\n",
    "+ Densidad de población\n",
    "+ Índice de pobreza\n",
    "\n",
    "#### Fuentes de datos\n",
    "\n",
    "Para este proyecto he utilizado [cuatro datasets de Kaggle](https://www.kaggle.com/datasets/vesuvius13/serial-killers-dataset/data), separados según el número de víctimas de los asesinos, un [JSON de la densidad de población de cada país](https://data.world/samayo/country-names/workspace/file?filename=country-population-density.json), el [índice de pobreza de cada país según OECD Data](https://data.oecd.org/inequality/poverty-rate.htm) y, por último, una [clave de códigos ISO y nombres de países](https://gist.githubusercontent.com/radcliff/f09c0f88344a7fcef373/raw/2753c482ad091c54b1822288ad2e4811c021d8ec/wikipedia-iso-country-codes.csv).\n",
    "\n",
    "Con los datos recopilados, dispongo de información de 355 asesinos, 6292 víctimas, 57 países, 5 continentes y datos que van de 1900 a 2018."
   ]
  },
  {
   "cell_type": "markdown",
   "metadata": {},
   "source": [
    "## Hipótesis\n",
    "1. ¿Hay ciertos **países** en los que estos asesinos están más presentes o donde cometen más crímenes?\n",
    "\n",
    "2. Suelen pertenecer a **clases socioeconómicas bajas** o es lo que predomina a su alrededor\n",
    "\n",
    "3. Ese tipo de perfil de asesino tiende a aparecer en lugares con **alta densidad de población**\n",
    "\n",
    "4. En las series siempre se habla de los casos de estadounidenses, pero ¿realmente son más comunes en **América y Europa** o es solo que en los otros continentes no se estudian estos casos o no se publica esta información?\n",
    "(Claramente partimos del sesgo de nuestra cultura occidental y del peso que tiene EE.UU. en esta).\n",
    "\n",
    "5. ¿En qué países les descubren o capturan antes?"
   ]
  },
  {
   "cell_type": "markdown",
   "metadata": {},
   "source": [
    "## Limpieza de datos"
   ]
  },
  {
   "cell_type": "code",
   "execution_count": 1,
   "metadata": {},
   "outputs": [],
   "source": [
    "import numpy as np\n",
    "import pandas as pd\n",
    "import matplotlib.pyplot as plt\n",
    "import seaborn as sns"
   ]
  },
  {
   "cell_type": "code",
   "execution_count": 3,
   "metadata": {},
   "outputs": [
    {
     "ename": "FileNotFoundError",
     "evalue": "[Errno 2] No such file or directory: '..\\\\data\\\\Highest_victim_count.csv'",
     "output_type": "error",
     "traceback": [
      "\u001b[1;31m---------------------------------------------------------------------------\u001b[0m",
      "\u001b[1;31mFileNotFoundError\u001b[0m                         Traceback (most recent call last)",
      "\u001b[1;32mc:\\Users\\Agui\\Documents\\Profesional\\01_Formacion\\01_TB_bcmp_DS\\Core curriculum_Student\\Entregas\\EDA\\EDAgit\\Serial-Killers-EDA\\src\\memo.ipynb Cell 8\u001b[0m line \u001b[0;36m1\n\u001b[1;32m----> <a href='vscode-notebook-cell:/c%3A/Users/Agui/Documents/Profesional/01_Formacion/01_TB_bcmp_DS/Core%20curriculum_Student/Entregas/EDA/EDAgit/Serial-Killers-EDA/src/memo.ipynb#Y240sZmlsZQ%3D%3D?line=0'>1</a>\u001b[0m hivict \u001b[39m=\u001b[39m pd\u001b[39m.\u001b[39;49mread_csv(\u001b[39m\"\u001b[39;49m\u001b[39m..\u001b[39;49m\u001b[39m\\\\\u001b[39;49;00m\u001b[39mdata\u001b[39;49m\u001b[39m\\\\\u001b[39;49;00m\u001b[39mHighest_victim_count.csv\u001b[39;49m\u001b[39m\"\u001b[39;49m) \u001b[39m#highest victim count\u001b[39;00m\n\u001b[0;32m      <a href='vscode-notebook-cell:/c%3A/Users/Agui/Documents/Profesional/01_Formacion/01_TB_bcmp_DS/Core%20curriculum_Student/Entregas/EDA/EDAgit/Serial-Killers-EDA/src/memo.ipynb#Y240sZmlsZQ%3D%3D?line=1'>2</a>\u001b[0m popdens \u001b[39m=\u001b[39m pd\u001b[39m.\u001b[39mread_json(\u001b[39m\"\u001b[39m\u001b[39m..\u001b[39m\u001b[39m\\\\\u001b[39;00m\u001b[39mdata\u001b[39m\u001b[39m\\\\\u001b[39;00m\u001b[39mcountry-population-density.json\u001b[39m\u001b[39m\"\u001b[39m) \u001b[39m#population density\u001b[39;00m\n\u001b[0;32m      <a href='vscode-notebook-cell:/c%3A/Users/Agui/Documents/Profesional/01_Formacion/01_TB_bcmp_DS/Core%20curriculum_Student/Entregas/EDA/EDAgit/Serial-Killers-EDA/src/memo.ipynb#Y240sZmlsZQ%3D%3D?line=2'>3</a>\u001b[0m povrates \u001b[39m=\u001b[39m pd\u001b[39m.\u001b[39mread_csv(\u001b[39m'\u001b[39m\u001b[39m..\u001b[39m\u001b[39m\\\\\u001b[39;00m\u001b[39mdata\u001b[39m\u001b[39m\\\\\u001b[39;00m\u001b[39mspoverty_rate.csv\u001b[39m\u001b[39m'\u001b[39m) \u001b[39m#poverty rate\u001b[39;00m\n",
      "File \u001b[1;32m~\\AppData\\Local\\Packages\\PythonSoftwareFoundation.Python.3.11_qbz5n2kfra8p0\\LocalCache\\local-packages\\Python311\\site-packages\\pandas\\io\\parsers\\readers.py:948\u001b[0m, in \u001b[0;36mread_csv\u001b[1;34m(filepath_or_buffer, sep, delimiter, header, names, index_col, usecols, dtype, engine, converters, true_values, false_values, skipinitialspace, skiprows, skipfooter, nrows, na_values, keep_default_na, na_filter, verbose, skip_blank_lines, parse_dates, infer_datetime_format, keep_date_col, date_parser, date_format, dayfirst, cache_dates, iterator, chunksize, compression, thousands, decimal, lineterminator, quotechar, quoting, doublequote, escapechar, comment, encoding, encoding_errors, dialect, on_bad_lines, delim_whitespace, low_memory, memory_map, float_precision, storage_options, dtype_backend)\u001b[0m\n\u001b[0;32m    935\u001b[0m kwds_defaults \u001b[39m=\u001b[39m _refine_defaults_read(\n\u001b[0;32m    936\u001b[0m     dialect,\n\u001b[0;32m    937\u001b[0m     delimiter,\n\u001b[1;32m   (...)\u001b[0m\n\u001b[0;32m    944\u001b[0m     dtype_backend\u001b[39m=\u001b[39mdtype_backend,\n\u001b[0;32m    945\u001b[0m )\n\u001b[0;32m    946\u001b[0m kwds\u001b[39m.\u001b[39mupdate(kwds_defaults)\n\u001b[1;32m--> 948\u001b[0m \u001b[39mreturn\u001b[39;00m _read(filepath_or_buffer, kwds)\n",
      "File \u001b[1;32m~\\AppData\\Local\\Packages\\PythonSoftwareFoundation.Python.3.11_qbz5n2kfra8p0\\LocalCache\\local-packages\\Python311\\site-packages\\pandas\\io\\parsers\\readers.py:611\u001b[0m, in \u001b[0;36m_read\u001b[1;34m(filepath_or_buffer, kwds)\u001b[0m\n\u001b[0;32m    608\u001b[0m _validate_names(kwds\u001b[39m.\u001b[39mget(\u001b[39m\"\u001b[39m\u001b[39mnames\u001b[39m\u001b[39m\"\u001b[39m, \u001b[39mNone\u001b[39;00m))\n\u001b[0;32m    610\u001b[0m \u001b[39m# Create the parser.\u001b[39;00m\n\u001b[1;32m--> 611\u001b[0m parser \u001b[39m=\u001b[39m TextFileReader(filepath_or_buffer, \u001b[39m*\u001b[39;49m\u001b[39m*\u001b[39;49mkwds)\n\u001b[0;32m    613\u001b[0m \u001b[39mif\u001b[39;00m chunksize \u001b[39mor\u001b[39;00m iterator:\n\u001b[0;32m    614\u001b[0m     \u001b[39mreturn\u001b[39;00m parser\n",
      "File \u001b[1;32m~\\AppData\\Local\\Packages\\PythonSoftwareFoundation.Python.3.11_qbz5n2kfra8p0\\LocalCache\\local-packages\\Python311\\site-packages\\pandas\\io\\parsers\\readers.py:1448\u001b[0m, in \u001b[0;36mTextFileReader.__init__\u001b[1;34m(self, f, engine, **kwds)\u001b[0m\n\u001b[0;32m   1445\u001b[0m     \u001b[39mself\u001b[39m\u001b[39m.\u001b[39moptions[\u001b[39m\"\u001b[39m\u001b[39mhas_index_names\u001b[39m\u001b[39m\"\u001b[39m] \u001b[39m=\u001b[39m kwds[\u001b[39m\"\u001b[39m\u001b[39mhas_index_names\u001b[39m\u001b[39m\"\u001b[39m]\n\u001b[0;32m   1447\u001b[0m \u001b[39mself\u001b[39m\u001b[39m.\u001b[39mhandles: IOHandles \u001b[39m|\u001b[39m \u001b[39mNone\u001b[39;00m \u001b[39m=\u001b[39m \u001b[39mNone\u001b[39;00m\n\u001b[1;32m-> 1448\u001b[0m \u001b[39mself\u001b[39m\u001b[39m.\u001b[39m_engine \u001b[39m=\u001b[39m \u001b[39mself\u001b[39;49m\u001b[39m.\u001b[39;49m_make_engine(f, \u001b[39mself\u001b[39;49m\u001b[39m.\u001b[39;49mengine)\n",
      "File \u001b[1;32m~\\AppData\\Local\\Packages\\PythonSoftwareFoundation.Python.3.11_qbz5n2kfra8p0\\LocalCache\\local-packages\\Python311\\site-packages\\pandas\\io\\parsers\\readers.py:1705\u001b[0m, in \u001b[0;36mTextFileReader._make_engine\u001b[1;34m(self, f, engine)\u001b[0m\n\u001b[0;32m   1703\u001b[0m     \u001b[39mif\u001b[39;00m \u001b[39m\"\u001b[39m\u001b[39mb\u001b[39m\u001b[39m\"\u001b[39m \u001b[39mnot\u001b[39;00m \u001b[39min\u001b[39;00m mode:\n\u001b[0;32m   1704\u001b[0m         mode \u001b[39m+\u001b[39m\u001b[39m=\u001b[39m \u001b[39m\"\u001b[39m\u001b[39mb\u001b[39m\u001b[39m\"\u001b[39m\n\u001b[1;32m-> 1705\u001b[0m \u001b[39mself\u001b[39m\u001b[39m.\u001b[39mhandles \u001b[39m=\u001b[39m get_handle(\n\u001b[0;32m   1706\u001b[0m     f,\n\u001b[0;32m   1707\u001b[0m     mode,\n\u001b[0;32m   1708\u001b[0m     encoding\u001b[39m=\u001b[39;49m\u001b[39mself\u001b[39;49m\u001b[39m.\u001b[39;49moptions\u001b[39m.\u001b[39;49mget(\u001b[39m\"\u001b[39;49m\u001b[39mencoding\u001b[39;49m\u001b[39m\"\u001b[39;49m, \u001b[39mNone\u001b[39;49;00m),\n\u001b[0;32m   1709\u001b[0m     compression\u001b[39m=\u001b[39;49m\u001b[39mself\u001b[39;49m\u001b[39m.\u001b[39;49moptions\u001b[39m.\u001b[39;49mget(\u001b[39m\"\u001b[39;49m\u001b[39mcompression\u001b[39;49m\u001b[39m\"\u001b[39;49m, \u001b[39mNone\u001b[39;49;00m),\n\u001b[0;32m   1710\u001b[0m     memory_map\u001b[39m=\u001b[39;49m\u001b[39mself\u001b[39;49m\u001b[39m.\u001b[39;49moptions\u001b[39m.\u001b[39;49mget(\u001b[39m\"\u001b[39;49m\u001b[39mmemory_map\u001b[39;49m\u001b[39m\"\u001b[39;49m, \u001b[39mFalse\u001b[39;49;00m),\n\u001b[0;32m   1711\u001b[0m     is_text\u001b[39m=\u001b[39;49mis_text,\n\u001b[0;32m   1712\u001b[0m     errors\u001b[39m=\u001b[39;49m\u001b[39mself\u001b[39;49m\u001b[39m.\u001b[39;49moptions\u001b[39m.\u001b[39;49mget(\u001b[39m\"\u001b[39;49m\u001b[39mencoding_errors\u001b[39;49m\u001b[39m\"\u001b[39;49m, \u001b[39m\"\u001b[39;49m\u001b[39mstrict\u001b[39;49m\u001b[39m\"\u001b[39;49m),\n\u001b[0;32m   1713\u001b[0m     storage_options\u001b[39m=\u001b[39;49m\u001b[39mself\u001b[39;49m\u001b[39m.\u001b[39;49moptions\u001b[39m.\u001b[39;49mget(\u001b[39m\"\u001b[39;49m\u001b[39mstorage_options\u001b[39;49m\u001b[39m\"\u001b[39;49m, \u001b[39mNone\u001b[39;49;00m),\n\u001b[0;32m   1714\u001b[0m )\n\u001b[0;32m   1715\u001b[0m \u001b[39massert\u001b[39;00m \u001b[39mself\u001b[39m\u001b[39m.\u001b[39mhandles \u001b[39mis\u001b[39;00m \u001b[39mnot\u001b[39;00m \u001b[39mNone\u001b[39;00m\n\u001b[0;32m   1716\u001b[0m f \u001b[39m=\u001b[39m \u001b[39mself\u001b[39m\u001b[39m.\u001b[39mhandles\u001b[39m.\u001b[39mhandle\n",
      "File \u001b[1;32m~\\AppData\\Local\\Packages\\PythonSoftwareFoundation.Python.3.11_qbz5n2kfra8p0\\LocalCache\\local-packages\\Python311\\site-packages\\pandas\\io\\common.py:863\u001b[0m, in \u001b[0;36mget_handle\u001b[1;34m(path_or_buf, mode, encoding, compression, memory_map, is_text, errors, storage_options)\u001b[0m\n\u001b[0;32m    858\u001b[0m \u001b[39melif\u001b[39;00m \u001b[39misinstance\u001b[39m(handle, \u001b[39mstr\u001b[39m):\n\u001b[0;32m    859\u001b[0m     \u001b[39m# Check whether the filename is to be opened in binary mode.\u001b[39;00m\n\u001b[0;32m    860\u001b[0m     \u001b[39m# Binary mode does not support 'encoding' and 'newline'.\u001b[39;00m\n\u001b[0;32m    861\u001b[0m     \u001b[39mif\u001b[39;00m ioargs\u001b[39m.\u001b[39mencoding \u001b[39mand\u001b[39;00m \u001b[39m\"\u001b[39m\u001b[39mb\u001b[39m\u001b[39m\"\u001b[39m \u001b[39mnot\u001b[39;00m \u001b[39min\u001b[39;00m ioargs\u001b[39m.\u001b[39mmode:\n\u001b[0;32m    862\u001b[0m         \u001b[39m# Encoding\u001b[39;00m\n\u001b[1;32m--> 863\u001b[0m         handle \u001b[39m=\u001b[39m \u001b[39mopen\u001b[39;49m(\n\u001b[0;32m    864\u001b[0m             handle,\n\u001b[0;32m    865\u001b[0m             ioargs\u001b[39m.\u001b[39;49mmode,\n\u001b[0;32m    866\u001b[0m             encoding\u001b[39m=\u001b[39;49mioargs\u001b[39m.\u001b[39;49mencoding,\n\u001b[0;32m    867\u001b[0m             errors\u001b[39m=\u001b[39;49merrors,\n\u001b[0;32m    868\u001b[0m             newline\u001b[39m=\u001b[39;49m\u001b[39m\"\u001b[39;49m\u001b[39m\"\u001b[39;49m,\n\u001b[0;32m    869\u001b[0m         )\n\u001b[0;32m    870\u001b[0m     \u001b[39melse\u001b[39;00m:\n\u001b[0;32m    871\u001b[0m         \u001b[39m# Binary mode\u001b[39;00m\n\u001b[0;32m    872\u001b[0m         handle \u001b[39m=\u001b[39m \u001b[39mopen\u001b[39m(handle, ioargs\u001b[39m.\u001b[39mmode)\n",
      "\u001b[1;31mFileNotFoundError\u001b[0m: [Errno 2] No such file or directory: '..\\\\data\\\\Highest_victim_count.csv'"
     ]
    }
   ],
   "source": [
    "hivict = pd.read_csv(\"..\\\\data\\\\Highest_victim_count.csv\") #highest victim count\n",
    "popdens = pd.read_json(\"..\\\\data\\\\country-population-density.json\") #population density\n",
    "povrates = pd.read_csv('..\\\\data\\\\spoverty_rate.csv') #poverty rate\n",
    "mainvict = pd.read_csv(\"..\\\\data\\\\15_to_30_victim_count.csv\") #main, 15-30 victim count\n",
    "less5vict=pd.read_csv(\"..\\\\data\\\\Lessthan_5_victim_count.csv\")\n",
    "fr5to14vict=pd.read_csv(\"..\\\\data\\\\5_to_14_victim_count.csv\")\n",
    "countrycode=pd.read_csv(\"..\\\\data\\\\iso_countrycode.csv\")"
   ]
  },
  {
   "cell_type": "markdown",
   "metadata": {},
   "source": [
    "#### Limpieza de los cuatro datasets de los sujetos\n",
    "(Este proceso desarrollado se encuentra en el *notebook* [1datacleaning.ipynb](\\\\notebooks\\\\1datacleaning.ipynb).)\n",
    "\n",
    "+ El primer paso, y el más laborioso, fue el de limpiar los datos.\n",
    "+ La columna de países de procedencia de los sujetos incluía varios valores en la misma celda (además de datos como \"Brasil (supuestamente)\"), por lo que he tenido que limpiarla separando los valores en una lista (```str.split()```) y dividiéndolos en filas con ``` pd.explode()```. De esta forma, si un sujeto perpetró crímenes en tres países, aparecerá tres veces, ya que lo que nos importa realmente son los países en los que tienen lugar dichos crímenes."
   ]
  },
  {
   "cell_type": "code",
   "execution_count": null,
   "metadata": {},
   "outputs": [],
   "source": [
    "#separating countries in the same cell as a list\n",
    "hivict['country']=hivict['country'].str.split('\\r\\n')\n",
    "\n",
    "#dividing list in several rows and removing the \" (alleged)\" bit\n",
    "hivictexp=hivict.explode('country')\n",
    "hivictexp['country']=hivictexp['country'].str.replace(\" (alleged)\",\"\")\n",
    "hivictexp['country'].unique()"
   ]
  },
  {
   "cell_type": "markdown",
   "metadata": {},
   "source": [
    "Este proceso se repite para las cuatro tablas de datos de asesinos, que posteriormente se concatenarán."
   ]
  },
  {
   "cell_type": "markdown",
   "metadata": {},
   "source": [
    "#### Limpieza de los datasets de datos demográficos y la clave de país-código ISO\n",
    "\n",
    "(Este proceso desarrollado se encuentra en el notebook [1datacleaning.ipynb](\\\\notebooks\\\\1datacleaning.ipynb).)\n",
    "\n",
    "+ Lo primero que tuve que hacer fue homogeinizar los nombres de las columnas y eliminar las que eran irrelevantes:"
   ]
  },
  {
   "cell_type": "code",
   "execution_count": null,
   "metadata": {},
   "outputs": [],
   "source": [
    "#añadir head"
   ]
  },
  {
   "cell_type": "code",
   "execution_count": null,
   "metadata": {},
   "outputs": [],
   "source": [
    "# homogeneizar nombres de columnas\n",
    "for col in povrates:\n",
    "    povrates.rename(columns={col:col.lower()}, inplace=True)\n",
    "\n",
    "povrates.rename(columns={'location':'code', 'time':'year'}, inplace=True)\n",
    "\n",
    "povrates=povrates[['code', 'year','value']]\n",
    "povrates.head()"
   ]
  },
  {
   "cell_type": "markdown",
   "metadata": {},
   "source": [
    "+ Principalmente quería basarme en dos datos demográficos: **la densidad de población y el índice de pobreza**.Sin embargo, el dataset de *poverty rates* incluía el código ISO de los países en lugar de su nombre, lo que me obligó a buscar otro csv que me permitiera hacer la correspondencia entre ambos.\n"
   ]
  },
  {
   "cell_type": "code",
   "execution_count": null,
   "metadata": {},
   "outputs": [],
   "source": [
    "countrycode=countrycode[['English short name lower case', 'Alpha-3 code']]\n",
    "countrycode.rename(columns={'English short name lower case':'country name', 'Alpha-3 code': 'code'},inplace=True)\n",
    "countrycode.sort_values(['code'])"
   ]
  },
  {
   "cell_type": "markdown",
   "metadata": {},
   "source": [
    "+ Después tuve que limpiar el dataset de índice de pobreza, que tenía varios valores según el año, pero muchos NaN también. **Decidí agruparlos por país y hacer una media del índice de pobreza, para dejar solo una fila por país, que después sería una nueva columna del dataframe.**"
   ]
  },
  {
   "cell_type": "code",
   "execution_count": null,
   "metadata": {},
   "outputs": [],
   "source": [
    "avgpovratecountry=povrates.groupby('code')['value'].mean()\n",
    "avgpovratecountry=pd.DataFrame(avgpovratecountry).reset_index()\n",
    "avgpovratecountry.rename(columns={'value':'mean value'},inplace=True)\n",
    "avgpovratecountry.drop(columns=['level_0','index'],inplace=True)"
   ]
  },
  {
   "cell_type": "markdown",
   "metadata": {},
   "source": [
    "+ Una vez hecho esto, se podía eliminar la columna de año y los valores nulos."
   ]
  },
  {
   "cell_type": "code",
   "execution_count": null,
   "metadata": {},
   "outputs": [],
   "source": [
    "povrates.dropna(subset=['value'],inplace=True)\n",
    "povrates.dropna(subset=['year'],inplace=True)\n",
    "simplepovrates=povrates.drop(columns='year').drop_duplicates('code')"
   ]
  },
  {
   "cell_type": "markdown",
   "metadata": {},
   "source": [
    "+ A partir de ahí, tuve que empezar a utilizar ```pd.merge()``` para juntar los datos demográficos y la clave de país-código ISO."
   ]
  },
  {
   "cell_type": "code",
   "execution_count": null,
   "metadata": {},
   "outputs": [],
   "source": [
    "cleanpovrate=simplepovrates.merge(avgpovratecountry, on='code').drop(columns='value')"
   ]
  },
  {
   "cell_type": "markdown",
   "metadata": {},
   "source": [
    "+ Se añade el nombre de los países a *pov rates* haciendo un merge con la anterior tabla."
   ]
  },
  {
   "cell_type": "code",
   "execution_count": null,
   "metadata": {},
   "outputs": [],
   "source": [
    "countrypovrate=pd.merge(cleanpovrate, countrycode, how='outer')\n",
    "countrypovrate.dropna(subset=['mean value'],inplace=True)"
   ]
  },
  {
   "cell_type": "markdown",
   "metadata": {},
   "source": [
    "#### Homogeinizar los nombres de los países en los distintos datasets"
   ]
  },
  {
   "cell_type": "markdown",
   "metadata": {},
   "source": [
    "\n",
    "+ **Ahí me di cuenta de que algunos países del dataset de asesinos no estaban escritos igual que los de este dataset** (por ejemplo, 'Korea, Republic of', frente a 'South Korea').\n",
    "+ Esto me obligó a crear un diccionario para corregir y homogeninizar los nombres de los países:"
   ]
  },
  {
   "cell_type": "code",
   "execution_count": null,
   "metadata": {},
   "outputs": [],
   "source": [
    "wrongpovratecountries={'Korea, Republic of':'South Korea'}\n",
    "\n",
    "for wrong,right in wrongpovratecountries.items():\n",
    "    countrypovrate['country name']=countrypovrate['country name'].str.replace(wrong, right)"
   ]
  },
  {
   "cell_type": "markdown",
   "metadata": {},
   "source": [
    "+ El mismo procedimiento se repitió para el dataest de la densidad de población:"
   ]
  },
  {
   "cell_type": "code",
   "execution_count": null,
   "metadata": {},
   "outputs": [],
   "source": [
    "wrongpopdenscountries={'Iran, Islamic Rep.':'Iran','Russian Federation':'Russia','Korea, Rep.':'South Korea',\n",
    "                       'Venezuela, RB':'Venezuela','Yemen, Rep.':'Yemen'}\n",
    "\n",
    "for wrong,right in wrongpovratecountries.items():\n",
    "    popdens['country']=popdens['country'].str.replace(wrong, right)"
   ]
  },
  {
   "cell_type": "markdown",
   "metadata": {},
   "source": [
    "(Este proceso desarrollado se encuentra en el notebook [2datacleaning_matching.ipynb](\\\\notebooks\\\\2datacleaning_matching.ipynb).)\n",
    "\n",
    "+ Se concatenan los cuatro datasets de datos de asesinos con ```pd.concat()``` y se ve los países cuyo nombre no encaja con los otros datasets (para hacer otro diccionario)."
   ]
  },
  {
   "cell_type": "code",
   "execution_count": null,
   "metadata": {},
   "outputs": [],
   "source": [
    "#keys are wrong, values are the correct ones (in killer df)\n",
    "wrongkillercountries={'Allied-occupied Germany':'Germany','Austria-Hungary':'Hungary',\n",
    "                      'Czechoslovakia':'Czech Republic','East Germany':'Germany','German Empire':'Germany',\n",
    "                      'Kingdom of Romania':'Romania','Ottoman Empire':'Iran','Portuguese Angola':'Angola',\n",
    "                      'West Germany':'Germany', 'Soviet Union':'Ukraine', 'Yugoslavia':'Serbia'}\n",
    "\n",
    "for wrong,right in wrongkillercountries.items():\n",
    "    totalvict['country']=totalvict['country'].str.replace(wrong, right)"
   ]
  },
  {
   "cell_type": "markdown",
   "metadata": {},
   "source": [
    "(Este proceso desarrollado se encuentra en el *notebook* [3mergingdf.ipynb](\\\\notebooks\\\\3mergingdf.ipynb).)\n",
    "\n",
    "+ Por último, en un último Jupyter notebook de limpieza se fusionan todos los datasets para poder trabajar con un dataframe definitivo y se eliminan las columnas innecesarias."
   ]
  },
  {
   "cell_type": "code",
   "execution_count": null,
   "metadata": {},
   "outputs": [],
   "source": [
    "#merged killers df with poverty rate df\n",
    "kill_povrate=killers.merge(povrate, how='left')\n",
    "\n",
    "kill_povrate['mean value'].isnull().value_counts() #quite a few nans for poverty rate\n",
    "\n",
    "#remove \"code\" column\n",
    "kill_povrate.drop(columns='code', inplace=True)"
   ]
  },
  {
   "cell_type": "code",
   "execution_count": null,
   "metadata": {},
   "outputs": [],
   "source": [
    "#merged killers_povrate df with pop density df\n",
    "dfkillers=kill_povrate.merge(popdens, how='left')\n",
    "dfkillers.rename(columns={'mean value':'pov rate'},inplace=True)\n",
    "\n",
    "dfkillers.to_csv(\"..\\\\data\\\\cleaned\\\\eda_df.csv\")"
   ]
  },
  {
   "cell_type": "markdown",
   "metadata": {},
   "source": [
    "+ El *eda_df.csv* ya está listo para el análisis. Veamos el resultado final:"
   ]
  },
  {
   "cell_type": "code",
   "execution_count": null,
   "metadata": {},
   "outputs": [],
   "source": [
    "len(dfkillers[(dfkillers['density'].notnull()) & (dfkillers['pov rate'].notnull())])\n",
    "#201 killers with both data\n",
    "#pov rate: 205 values, 150 nan\n",
    "#density: 313 values, 42 nan"
   ]
  },
  {
   "cell_type": "markdown",
   "metadata": {},
   "source": [
    "+ Hay 150 países sin datos de índice de pobreza y 42 países sin datos de densidad de población. **Es decir, disponemos de todos los datos de 201 sujetos**.\n",
    "+ Se exporta otro csv sin NaN también:"
   ]
  },
  {
   "cell_type": "code",
   "execution_count": null,
   "metadata": {},
   "outputs": [],
   "source": [
    "notnullkillers=dfkillers[(dfkillers['density'].notnull()) & (dfkillers['pov rate'].notnull())]\n",
    "notnullkillers.to_csv(\"..\\\\data\\\\cleaned\\\\notnull_df.csv\")"
   ]
  },
  {
   "cell_type": "markdown",
   "metadata": {},
   "source": [
    "### Cambio del tipo de los valores del df (de str a int/float)"
   ]
  },
  {
   "cell_type": "code",
   "execution_count": null,
   "metadata": {},
   "outputs": [],
   "source": [
    "dfkillers.info"
   ]
  },
  {
   "cell_type": "markdown",
   "metadata": {},
   "source": [
    "(Este proceso desarrollado se encuentra en el notebook [4converttypes.ipynb](\\\\notebooks\\\\4converttypes.ipynb).)\n",
    "\n",
    "Los valores de la tabla son *object* aun siendo numéricos, por lo que hay que transformarlos.\n",
    "\n",
    "Sin embargo, hay otros caracteres en la celda, como \"11-16\" o \"203,456.000\", por lo que hay que limpiarlos con ```split()``` y ```replace()```:"
   ]
  },
  {
   "cell_type": "code",
   "execution_count": null,
   "metadata": {},
   "outputs": [],
   "source": [
    "df[df['proven victims'].str.contains('–')]"
   ]
  },
  {
   "cell_type": "markdown",
   "metadata": {},
   "source": [
    "+ Conservamos solamente el primer número de víctimas [0], es más seguro que el segundo (sin confirmar)"
   ]
  },
  {
   "cell_type": "code",
   "execution_count": null,
   "metadata": {},
   "outputs": [],
   "source": [
    "df['proven victims']=df['proven victims'].str.split('–').str[0]\n",
    "#conservamos solamente el primer número de víctimas [0], es más seguro que el segundo (sin confirmar)"
   ]
  },
  {
   "cell_type": "markdown",
   "metadata": {},
   "source": [
    "+ Eliminamos las comas de los millares"
   ]
  },
  {
   "cell_type": "code",
   "execution_count": null,
   "metadata": {},
   "outputs": [],
   "source": [
    "df['density']=df['density'].str.replace(\",\",\"\")"
   ]
  },
  {
   "cell_type": "markdown",
   "metadata": {},
   "source": [
    "+ Ya se puede transformar los datos a int o float, según corresponda"
   ]
  },
  {
   "cell_type": "code",
   "execution_count": null,
   "metadata": {},
   "outputs": [],
   "source": [
    "df['proven victims']=df['proven victims'].astype(int)\n",
    "df['pov rate']=df['pov rate'].astype(float)\n",
    "df['density']=df['density'].astype(float)"
   ]
  },
  {
   "cell_type": "markdown",
   "metadata": {},
   "source": [
    "# Análisis de los datos y comprobación de hipótesis"
   ]
  },
  {
   "cell_type": "markdown",
   "metadata": {},
   "source": [
    "(Este proceso desarrollado se encuentra en el *notebook* [5stats.ipynb](\\\\notebooks\\\\5stats.ipynb).)\n",
    "+ Creación de nuevas series y dataframes a partir de los datos\n",
    "+ Obtención de datos estadísticos básicos por columnas (```mean(), max(), median(), min(), mode(),describe(include='all')```)"
   ]
  },
  {
   "cell_type": "markdown",
   "metadata": {},
   "source": [
    "+ Obtención del número de asesinos que hay en cada país para que el análisis sea más exacto"
   ]
  },
  {
   "cell_type": "code",
   "execution_count": null,
   "metadata": {},
   "outputs": [],
   "source": [
    "df['country'].value_counts(ascending=False)\n",
    "#box plot with quartiles"
   ]
  },
  {
   "cell_type": "markdown",
   "metadata": {},
   "source": [
    "+ Se crea un nuevo dataframe con esta información, que luego uniremos al df principal con ```merge()```."
   ]
  },
  {
   "cell_type": "code",
   "execution_count": null,
   "metadata": {},
   "outputs": [],
   "source": [
    "#Nº DE ASESINOS POR PAÍS\n",
    "killerspercountry=df.groupby('country')['name'].count().sort_values(ascending=False).reset_index()\n",
    "killerspercountry.rename(columns={'name':'amount'},inplace=True)"
   ]
  },
  {
   "cell_type": "code",
   "execution_count": null,
   "metadata": {},
   "outputs": [],
   "source": [
    "killerspercountry['amount'].agg(['median','mean','max','min'])\n",
    "#98 es un outlier q descompensa la media"
   ]
  },
  {
   "cell_type": "markdown",
   "metadata": {},
   "source": [
    "+ Se une la nueva columna de asesinos por país al df principal con ```merge()```."
   ]
  },
  {
   "cell_type": "code",
   "execution_count": null,
   "metadata": {},
   "outputs": [],
   "source": [
    "dfamount=df.merge(killerspercountry,on='country',how='left')\n",
    "dfamount.head()"
   ]
  },
  {
   "cell_type": "code",
   "execution_count": null,
   "metadata": {},
   "outputs": [],
   "source": [
    "#pov rate and country based on number of victims\n",
    "dfamount.groupby('proven victims')[['pov rate','country','amount']].agg({'pov rate':['mean','max','min'],'amount':['mean','max','min'],'country': 'first'}).reset_index().sort_values(by=('proven victims'),ascending=False)"
   ]
  },
  {
   "cell_type": "code",
   "execution_count": null,
   "metadata": {},
   "outputs": [],
   "source": [
    "killerspercountrypovrdens=dfamount.groupby('country')[['density','pov rate','amount']].agg({'density':'first','pov rate':'first','amount':'first'}).round(2).sort_values(by='amount', ascending=False).reset_index()\n",
    "killerspercountrypovrdens\n",
    "#this shows the amount of killers per country related to its density and pov rate (and victims)"
   ]
  },
  {
   "cell_type": "markdown",
   "metadata": {},
   "source": [
    "### Hipótesis 3\n",
    "1. Países con alta densidad de población"
   ]
  },
  {
   "cell_type": "code",
   "execution_count": null,
   "metadata": {},
   "outputs": [],
   "source": [
    "#higher density countries vs victims\n",
    "df[df['density']> df['density'].median()].sort_values(by='proven victims',ascending=False)"
   ]
  },
  {
   "cell_type": "code",
   "execution_count": null,
   "metadata": {},
   "outputs": [],
   "source": [
    "victimdensitycountry=df.groupby(['proven victims','country'])['density'].agg(['first']).round(2).sort_values(by='first', ascending=False).reset_index()\n",
    "victimdensitycountry\n",
    "# victimsdensity"
   ]
  },
  {
   "cell_type": "markdown",
   "metadata": {},
   "source": [
    "Repetimos este último df teniendo en cuenta el número de asesinos que hay en cada país:"
   ]
  },
  {
   "cell_type": "code",
   "execution_count": null,
   "metadata": {},
   "outputs": [],
   "source": [
    "#pov rate and country based on number of victims\n",
    "dfamount.groupby('proven victims')[['pov rate','country','amount']].agg({'pov rate':['mean','max','min'],'amount':['mean','max','min'],'country': 'first'}).reset_index().sort_values(by=('proven victims'),ascending=False)"
   ]
  },
  {
   "cell_type": "code",
   "execution_count": null,
   "metadata": {},
   "outputs": [],
   "source": [
    "dfamount['density'].median()"
   ]
  },
  {
   "cell_type": "code",
   "execution_count": null,
   "metadata": {},
   "outputs": [],
   "source": [
    "killerspercountrypovrdens=dfamount.groupby('country')[['density','pov rate','amount']].agg({'density':'first','pov rate':'first','amount':'first'}).round(2).sort_values(by='amount', ascending=False).reset_index()\n",
    "killerspercountrypovrdens\n",
    "#this shows the amount of killers per country related to its density and pov rate (and victims)"
   ]
  },
  {
   "cell_type": "markdown",
   "metadata": {},
   "source": [
    "+ El df creado arriba muestra la densidad media, máxima y mínima según el país y el número de víctimas.\n",
    "Con él, se desmiente mi primera hipótesis, parece que la densidad de población no hace que los asesinos sean más 'prolíficos', aunque sí que están presentes en esos lugares.\n",
    "\n",
    "+ Aun así, lugares como Rusia tienen una baja densidad de población a nivel de país, pero probablemente las ciudades concretas donde actuaron tuvieran un valor mayor."
   ]
  },
  {
   "cell_type": "markdown",
   "metadata": {},
   "source": [
    "### Hipótesis 2\n",
    "2. Clases socioeconómicas bajas"
   ]
  },
  {
   "cell_type": "code",
   "execution_count": null,
   "metadata": {},
   "outputs": [],
   "source": [
    "df['country'][df['pov rate'].idxmax()] #costa rica tiene el mayor poverty rate (de los q hay info)"
   ]
  },
  {
   "cell_type": "code",
   "execution_count": null,
   "metadata": {},
   "outputs": [],
   "source": [
    "df['country'][df['pov rate'].idxmin()] #Rep Checa tiene el menor poverty rate (de los q hay info)"
   ]
  },
  {
   "cell_type": "code",
   "execution_count": null,
   "metadata": {},
   "outputs": [],
   "source": [
    "df['country'][df['pov rate']>df['pov rate'].median()].unique()\n",
    "#países con un pov rate por encima de la mediana del dataset"
   ]
  },
  {
   "cell_type": "code",
   "execution_count": null,
   "metadata": {},
   "outputs": [],
   "source": [
    "df['country'][df['pov rate']<df['pov rate'].median()].unique()\n",
    "#países con un pov rate inferior a la mediana del dataset"
   ]
  },
  {
   "cell_type": "code",
   "execution_count": null,
   "metadata": {},
   "outputs": [],
   "source": [
    "#pov rate and country based on number of victims\n",
    "df.groupby('proven victims')[['pov rate','country']].agg({'pov rate':['mean','max','min'],'country': 'first'}).reset_index().sort_values(by=('proven victims'),ascending=False)"
   ]
  },
  {
   "cell_type": "markdown",
   "metadata": {},
   "source": [
    "### Hipótesis 4\n",
    "¿Realmente son más comunes en América y Europa?"
   ]
  },
  {
   "cell_type": "code",
   "execution_count": null,
   "metadata": {},
   "outputs": [],
   "source": [
    "(df['country']== 'United States').value_counts() #98 from USA out of 355\n",
    "#pie chart\n",
    "df['country'].value_counts(ascending=False)\n",
    "#box plot with quartiles"
   ]
  },
  {
   "cell_type": "markdown",
   "metadata": {},
   "source": [
    ">Parece que, efectivamente, en Europa y el norte de Asia hay muchos más casos, mientras que, al menos documentados, hay muy poco en países como Egipto o Yemen.\n",
    ">\n",
    ">Sí que sorprende la predominancia de Rusia frente a todo menos EE.UU., que se lleva la palma clarísimamente.\n",
    ">\n",
    ">Países como Colombia o Venezuela, que tenían una de las mayores medias de asesinatos, parecen deberse a una sola persona o pocas de ellas, no a múltiples asesinos.\n",
    "\n",
    "\n",
    "> Habrá que hacer un scatter plot para diferenciar si un país tiene muchos asesinatos y pocos asesinos o viceversa (como Colombia con garavito (outlier)"
   ]
  },
  {
   "cell_type": "markdown",
   "metadata": {},
   "source": [
    "### Hipótesis 1\n",
    "+ En que países hay más asesinos en serie y víctimas"
   ]
  },
  {
   "cell_type": "code",
   "execution_count": null,
   "metadata": {},
   "outputs": [],
   "source": [
    "#pov rate and country based on number of victims\n",
    "df.groupby('proven victims')[['pov rate','country']].agg({'pov rate':['mean','max','min'],'country': 'first'}).reset_index().sort_values(by=('proven victims'),ascending=False)"
   ]
  },
  {
   "cell_type": "code",
   "execution_count": null,
   "metadata": {},
   "outputs": [],
   "source": [
    "#higher density countries vs victims\n",
    "df[df['density']> df['density'].mean()].sort_values(by='proven victims',ascending=False)"
   ]
  },
  {
   "cell_type": "code",
   "execution_count": null,
   "metadata": {},
   "outputs": [],
   "source": [
    "maxvicpercountry=df.groupby('country')['proven victims'].max().sort_values(ascending=False)\n",
    "maxvicpercountry"
   ]
  },
  {
   "cell_type": "code",
   "execution_count": null,
   "metadata": {},
   "outputs": [],
   "source": [
    "df.groupby('country')['proven victims'].mean().round(2).sort_values(ascending=False)\n"
   ]
  },
  {
   "cell_type": "code",
   "execution_count": null,
   "metadata": {},
   "outputs": [],
   "source": [
    "df.groupby('country')['proven victims'].sum().idxmax()#.sort_values(ascending=False)"
   ]
  },
  {
   "cell_type": "markdown",
   "metadata": {},
   "source": [
    "Garavito es un outlier, descompensa los datos de colombia y venezuela\n",
    "\n",
    "> Parece que en países latinoamericanos hay + asesinatos de media y tb de mayor nº por asesino (asesinos más 'prolíficos').\n",
    ">\n",
    "> Sin embargo, el país donde más asesinos ha habido es EE.UU (y si se suman todos los asesinos por país, es el país donde más crímenes se han cometido)."
   ]
  },
  {
   "cell_type": "code",
   "execution_count": null,
   "metadata": {},
   "outputs": [],
   "source": [
    "victimstats=df.groupby('country')['proven victims'].agg(['median','mean','max','min']).round(1).sort_values(by='median', ascending=False)\n",
    "victimstats.reset_index(inplace=True)"
   ]
  },
  {
   "cell_type": "markdown",
   "metadata": {},
   "source": [
    "### Hipótesis 5\n",
    "+ En que países los descubren o capturan antes"
   ]
  },
  {
   "cell_type": "markdown",
   "metadata": {},
   "source": [
    "# Visualizaciones\n",
    "\n",
    "(Este proceso desarrollado se encuentra en el *notebook* [6visuals.ipynb](\\\\notebooks\\\\6visuals.ipynb).)\n",
    "+ A continuación se tratará de comprobar o refutar las hipótesis planteadas por medio de gráficas que respalden los datos.\n",
    "\n",
    "### Hipótesis 2 y 3. Países con alta densidad de población e índice de pobreza"
   ]
  },
  {
   "cell_type": "code",
   "execution_count": null,
   "metadata": {},
   "outputs": [],
   "source": [
    "killerspercountrypovrdens=df.groupby('country')[['density','pov rate','amount']].agg({'density':'first','pov rate':'first','amount':'first'}).round(2).sort_values(by='amount', ascending=False).reset_index()\n",
    "killerspercountrypovrdens\n",
    "#this shows the amount of killers per country related to its density and pov rate"
   ]
  },
  {
   "cell_type": "code",
   "execution_count": null,
   "metadata": {},
   "outputs": [],
   "source": [
    "#Tomamos la densidad de Singapur como un outlier, ya que descompensa todas las medidas y scatterplots\n",
    "df['country'][df['density'].idxmax()]"
   ]
  },
  {
   "cell_type": "markdown",
   "metadata": {},
   "source": [
    "+ Se hace una matriz de correlación con todas las variables numéricas:"
   ]
  },
  {
   "cell_type": "code",
   "execution_count": null,
   "metadata": {},
   "outputs": [],
   "source": [
    "#correlation matrix (same for pov rate not null)\n",
    "dfcorr=(df[['proven victims','pov rate','density','amount']][(df['pov rate'].notnull())&(df['density'].notnull()) ]).corr()\n",
    "dfcorr"
   ]
  },
  {
   "cell_type": "markdown",
   "metadata": {},
   "source": [
    "Hay una clara correlación (0.75) entre el índice de pobreza y el número de asesinos en serie de un país, por lo que lo comprobaremos en un mapa de calor."
   ]
  },
  {
   "cell_type": "code",
   "execution_count": null,
   "metadata": {},
   "outputs": [],
   "source": [
    "plt.figure(figsize=(10,7))\n",
    "sns.heatmap(dfcorr,\n",
    "            vmin=-1,\n",
    "            vmax=1,\n",
    "            cmap=sns.diverging_palette(0, 20, s=95, l=15, n=7),\n",
    "            square=False,\n",
    "            annot=True,\n",
    "            xticklabels=['Victims','Poverty rate','Pop density', 'Nr of killers'],\n",
    "            yticklabels=['Victims','Poverty rate','Pop density', 'Nr of killers']\n",
    "            );\n",
    "plt.title('Serial killer demographic heatmap')\n"
   ]
  },
  {
   "cell_type": "markdown",
   "metadata": {},
   "source": [
    "+ Parece que hay una correlación positiva entre el índice de pobreza y el número de asesinos de un país.\n",
    "\n",
    "+ Por otra parte, hay una correlación negativa débil entre el la densidad y el número de asesinos (así como entre el índice de pobreza y la densidad, aunque eso no afecta al estudio).\n",
    "\n",
    "El scatterplot no permite verlo con tanta claridad (aunque he recortado los límites para descartar outliers de densidad, como Singapur, y de víctimas, como Colombia):\n",
    "\n",
    "+ Densidad frente a número de asesinos y de víctimas:"
   ]
  },
  {
   "cell_type": "code",
   "execution_count": null,
   "metadata": {},
   "outputs": [],
   "source": [
    "plt.subplot(1,2,1)\n",
    "sns.scatterplot(x='amount', y='density', data=df[df['density'].notnull()],color='darkred')\n",
    "plt.xlim(0,30)\n",
    "plt.ylim(0,550)\n",
    "\n",
    "plt.subplot(1,2,2)\n",
    "sns.scatterplot(x='proven victims', y='density', color='darksalmon',data=df[df['density'].notnull()])\n",
    "plt.xlim(0,140)\n",
    "plt.ylim(0,550)"
   ]
  },
  {
   "cell_type": "markdown",
   "metadata": {},
   "source": [
    "+ Índice de pobreza frente a número de asesinos y de víctimas:"
   ]
  },
  {
   "cell_type": "code",
   "execution_count": null,
   "metadata": {},
   "outputs": [],
   "source": [
    "scattpov=df[df['pov rate'].notnull()]\n",
    "scattpov.drop_duplicates(subset='country',inplace=True)\n",
    "\n",
    "plt.subplot(1,2,1)\n",
    "sns.scatterplot(x='amount', y='pov rate', data=scattpov,color='darkred')\n",
    "plt.xlim(0,15)\n",
    "plt.ylim(0.05,0.225)\n",
    "\n",
    "plt.subplot(1,2,2)\n",
    "sns.scatterplot(x='proven victims', y='pov rate', color='darksalmon',data=scattpov)\n",
    "plt.xlim(0,70)\n",
    "plt.ylim(0.05,0.225)"
   ]
  },
  {
   "cell_type": "markdown",
   "metadata": {},
   "source": [
    "Tomamos EE.UU. como un outlier en cuanto a número de asesinos por país, así que lo excluímos de la gráfica.\n",
    "\n",
    "### Hipótesis 4. ¿Son más comunes en América y Europa?"
   ]
  },
  {
   "cell_type": "code",
   "execution_count": null,
   "metadata": {},
   "outputs": [],
   "source": [
    "df['country'].mode()"
   ]
  },
  {
   "cell_type": "code",
   "execution_count": null,
   "metadata": {},
   "outputs": [],
   "source": [
    "df['country'].value_counts(ascending=False)\n",
    "#box plot with quartiles"
   ]
  },
  {
   "cell_type": "code",
   "execution_count": null,
   "metadata": {},
   "outputs": [],
   "source": [
    "topcountries=df[df['amount']>18]\n",
    "other=df[df['amount']<=18]\n",
    "other['country']='Other'\n",
    "other.drop_duplicates('country',inplace=True)\n",
    "piecountries=pd.concat([topcountries,other])\n",
    "piecountries.drop_duplicates(['country','amount'],inplace=True)"
   ]
  },
  {
   "cell_type": "markdown",
   "metadata": {},
   "source": [
    "Parece que hay unos cuantos países que predominan en cuanto al número de asesinos. Haré un pie chart que refleje los más frecuentes:"
   ]
  },
  {
   "cell_type": "code",
   "execution_count": null,
   "metadata": {},
   "outputs": [],
   "source": [
    "plt.figure(figsize=(8,8))\n",
    "plt.pie((piecountries['amount']),\n",
    "        labels=piecountries['country'],\n",
    "        autopct='%1.2f%%',\n",
    "        colors=['tomato','darkred','lightsalmon','brown','maroon'])\n",
    "\n",
    "plt.title('Distribution of Serial Killers by Country\\n(Top Countries Only)');"
   ]
  },
  {
   "cell_type": "markdown",
   "metadata": {},
   "source": [
    "También podemos ver la comparación de todo el dataset en relación con EE.UU.:"
   ]
  },
  {
   "cell_type": "code",
   "execution_count": null,
   "metadata": {},
   "outputs": [],
   "source": [
    "plt.figure(figsize=(8,8))\n",
    "plt.pie((df['country']== 'United States').value_counts(),\n",
    "        labels=['Other','United States'],\n",
    "        autopct='%1.2f%%',\n",
    "        colors=['maroon','tomato'])\n",
    "\n",
    "plt.title('Percentage of Killers in the U.S. in relation to other countries');"
   ]
  },
  {
   "cell_type": "markdown",
   "metadata": {},
   "source": [
    "En definitiva, EE.UU. tiene muchísimos más asesinos en serie a lo largo de los años.\n",
    "\n",
    "Sin embargo, países como Rusia, Ucrania o Sudáfrica le pisan los talones, ya que entre todos sus asesinos componen cerca del 96% del dataset.\n",
    "\n",
    "Por lo tanto, ante la pregunta de si los asesinos en serie son más frecuentes en EE.UU. y Europa, podemos decir que sí, en EE.UU. y en Europa del este y Asia occidental."
   ]
  },
  {
   "cell_type": "markdown",
   "metadata": {},
   "source": [
    "### Hipótesis 1. ¿En qué países cometen más asesinatos o hay más asesinos en serie?"
   ]
  },
  {
   "cell_type": "code",
   "execution_count": null,
   "metadata": {},
   "outputs": [],
   "source": [
    "killerspercountry=df.groupby('country')['name'].count().sort_values(ascending=False).reset_index()"
   ]
  },
  {
   "cell_type": "markdown",
   "metadata": {},
   "source": [
    "+ Haré un bar plot para comparar la cantidad de asesinos por país. (Descartaré los países con menos de dos asesinos para no saturar el eje de la gráfica)."
   ]
  },
  {
   "cell_type": "code",
   "execution_count": null,
   "metadata": {},
   "outputs": [],
   "source": [
    "distplot4=df[['country','amount']][df['amount']>4].sort_values(by='amount',ascending=False)"
   ]
  },
  {
   "cell_type": "code",
   "execution_count": null,
   "metadata": {},
   "outputs": [],
   "source": [
    "#HISTOGRAMA\n",
    "plt.figure(figsize=(6,10));\n",
    "sns.displot(distplot4['country'],color='darkred');\n",
    "plt.axis('tight');\n",
    "plt.xticks(rotation=90);\n",
    "plt.xlabel('Country');\n",
    "plt.ylabel('Number of killers');\n",
    "plt.title('Number of Killers per Country');\n",
    "plt.yticks(range(0,101,25))"
   ]
  },
  {
   "cell_type": "markdown",
   "metadata": {},
   "source": [
    "Ya sabemos que en EE.UU. están la mayoría, por lo que nos acercaremos a los demás para verlos con más detalle."
   ]
  },
  {
   "cell_type": "code",
   "execution_count": null,
   "metadata": {},
   "outputs": [],
   "source": [
    "#repeat with more zoom\n",
    "plt.figure(figsize=(5,9))\n",
    "sns.displot(distplot4['country'],color='darkred')\n",
    "plt.axis('tight')\n",
    "plt.xticks(rotation=90);\n",
    "plt.ylim(4,30)\n",
    "plt.yticks(range(5,30,5))\n",
    "\n",
    "plt.xlabel('Country');\n",
    "plt.ylabel('Number of killers');\n",
    "plt.title('Number of Killers per Country (Detail)');"
   ]
  },
  {
   "cell_type": "markdown",
   "metadata": {},
   "source": [
    "A lo largo del análisis me surgió la duda de **si en ciertos países había muchas víctimas porque había muchos asesinos o porque había un asesino más \"prolífico\" o activo**.\n",
    "\n",
    "Por ello, decidí hacer un boxplot para identificar estos valores y posibles outliers."
   ]
  },
  {
   "cell_type": "code",
   "execution_count": null,
   "metadata": {},
   "outputs": [],
   "source": [
    "df['amount'].agg(['median','mean','max','min'])\n",
    "#98 es un outlier q descompensa la media"
   ]
  },
  {
   "cell_type": "code",
   "execution_count": null,
   "metadata": {},
   "outputs": [],
   "source": [
    "df[df['proven victims']>30].sort_values(by='proven victims',ascending=False)"
   ]
  },
  {
   "cell_type": "code",
   "execution_count": null,
   "metadata": {},
   "outputs": [],
   "source": [
    "plt.figure(figsize=(8,8))\n",
    "sns.boxplot(data=(df[df['proven victims']>30].sort_values(by='proven victims',ascending=False)), x='amount',y='proven victims',color='darkred');\n",
    "# plt.xticks(rotation=90);\n",
    "plt.ylim(29,140)\n",
    "plt.yticks(range(30,141,15))\n",
    "plt.title('Number of Killers per Country and their Victims')\n",
    "plt.xlabel('Number of killers in a country')\n",
    "plt.ylabel('Number of victims')"
   ]
  },
  {
   "cell_type": "markdown",
   "metadata": {},
   "source": [
    "+ Haré también un scatterplot para que quede más clara esta distribución dispar. "
   ]
  },
  {
   "cell_type": "code",
   "execution_count": null,
   "metadata": {},
   "outputs": [],
   "source": [
    "plt.figure(figsize=(9,6))\n",
    "sns.scatterplot(data=df[df['proven victims']>40].sort_values(by='country',ascending=True),\n",
    "                x='proven victims',\n",
    "                y='amount',\n",
    "                hue = 'country',\n",
    "                palette='dark',\n",
    "                s=100);\n",
    "plt.ylim(0,100)\n",
    "plt.yticks([0,5,20,40,80,100])\n",
    "plt.gca().invert_xaxis()\n",
    "plt.xticks(range(40,141,20))\n",
    "\n",
    "plt.title('Number of Killers in a Country and their Victims')\n",
    "plt.ylabel('Number of killers in a country')\n",
    "plt.xlabel('Number of victims')\n",
    "plt.legend(loc = 'upper left', frameon = False, ncol = 2)"
   ]
  },
  {
   "cell_type": "markdown",
   "metadata": {},
   "source": [
    "+ Como se puede apreciar, hay países como EE.UU. con un gran número de asesinos, pero menos víctimas por asesino.\n",
    "\n",
    "+ Por otro lado hay asesinos particularmente \"prolífico\" que hacen que en países como Colombia o Venezuela con tan solo dos asesinos haya un mayor número de víctimas."
   ]
  },
  {
   "cell_type": "code",
   "execution_count": null,
   "metadata": {},
   "outputs": [],
   "source": [
    "#barplot to show victim trends per country\n",
    "plt.figure(figsize=(10,6))\n",
    "sns.barplot(x=maxvicpercountry.values, y=maxvicpercountry.index)"
   ]
  },
  {
   "cell_type": "code",
   "execution_count": null,
   "metadata": {},
   "outputs": [],
   "source": [
    "victimstats=df.groupby('country')['proven victims'].agg(['median','mean','max','min']).round(1).sort_values(by='median', ascending=False)\n",
    "victimstats.reset_index(inplace=True)"
   ]
  },
  {
   "cell_type": "markdown",
   "metadata": {},
   "source": [
    "#### Hipótesis 5. ¿Dónde los descubren o capturan antes?"
   ]
  },
  {
   "cell_type": "markdown",
   "metadata": {},
   "source": [
    "# Conclusiones"
   ]
  },
  {
   "cell_type": "markdown",
   "metadata": {},
   "source": [
    "Tras este análisis, se pueden sacar varias conclusiones de las hipótesis iniciales:\n",
    "\n",
    "#### 1.Países en los que estos asesinos están más presentes o donde cometen más crímenes\n",
    "\n",
    "Más de un cuarto de los asesinos en serie del *dataset* se encuentran en Estados Unidos, seguido de cerca por Rusia, Ucrania y Sudáfrica. Esto puede estar relacionado con la mayor cantidad de estudios y recursos dedicados a la criminología en Estados Unidos desde sus comienzos por parte del FBI. Sin embargo, también se observaron casos notables en países con menos visibilidad, como Colombia, en los que el número de asesinos era mucho menor pero el de víctimas era descomunal.\n",
    "La disparidad en el número de víctimas por asesino entre diferentes países sugiere que en algunos lugares se da más visibilidad y se publican más datos sobre estos casos que en otros, lo que podría explicar la diferencia en la visibilidad de los asesinos en serie.\n",
    "#### 2. Clase Socioeconómica\n",
    "\n",
    "Se encontró una correlación significativa (0.74) entre el número de asesinos en serie y el índice de pobreza. Aunque esta correlación es prometedora, es cierto que había muchos valores nulos respecto a esta variable y que esa medida solamente no basta para determinar la clase social de cada asesino en concreto. Sin embargo, el país mas pobre de mi *dataset* era Ecuador y coincide con el dato de las 140 víctimas por un solo asesino (Luis Garavito), ya que este actuó tanto en Colombia, como en Venezuela y Ecuador. Sería interesante, a partir de esta correlación preliminar, considerar otras varibles para llegar a comprender completamente la relación entre clases socioeconómicas y asesinos en serie.\n",
    "#### 3. Densidad de Población:\n",
    "\n",
    "Aunque se observó una correlación negativa (-0.62) entre la densidad de población y el número de asesinos en serie, estos datos son poco concluyentes y su causalidad es cuestionable. Se requiere un análisis más exhaustivo que tenga en cuenta la densidad de población en los núcleos urbanos concretos donde opera cada asesino en serie.\n",
    "Igualmente, serviría como punto de partida para otro posible análisis, dado que los datos indican que puede haber un nexo de la facilidad de que surja un asesino en serie en zonas poco pobladas.\n",
    "#### 4.Predominancia de EE.UU. y Europa:\n",
    "\n",
    "La mayoría de los asesinos en serie en el conjunto de datos provienen de EE.UU. y Europa del Este, lo que puede reflejar una mayor visibilidad y estudio de estos casos en estas regiones. Esto podría atribuirse a la presencia de organismos gubernamentales y recursos para investigar y rastrear este perfil de asesino.\n",
    "#### 5.Captura de Asesinos:\n",
    "\n",
    "La tasa de víctimas por asesino varía significativamente entre países. Los países con una alta tasa de víctimas por asesino, como Colombia, sugieren que los asesinos pueden no ser capturados con la misma rapidez debido a la falta de recursos o formación en perfiles psicológicos.\n",
    "\n",
    "En resumen, este análisis exploratorio de datos sobre asesinos en serie revela tendencias interesantes, pero también destaca la necesidad de investigaciones más detalladas y contextualizadas de cada caso para comprender completamente los factores que subyacen tras de la presencia y el comportamiento de los asesinos en serie en diferentes países."
   ]
  },
  {
   "cell_type": "markdown",
   "metadata": {},
   "source": [
    "## Consideraciones para el futuro\n",
    "+ Hay datos del *dataframe* que no he explotado en el análisis. Aun así, he decidido no borrarlos porque podría profundizarse en ellos en un segundo estudio. Si bien he podido comprobar mis hipótesis con las variables utilizadas, se podrían sacar muchas otras de los datos aún por explotar:\n",
    "\n",
    "+ Por ejemplo, se podría limpiar la columna de *years active* para determinar patrones de actividad por país o por número de víctimas.\n",
    "+ Se podría tratar de diferenciar a los asesinos según si son hombres o mujeres, para ver si cambia algún dato demográfico según este factor.\n",
    "+ También se podría hacer una búsqueda de *keywords* de la columna *notes* para buscar patrones en su *modus operandi*.\n",
    "+ Por último, se podría dividir a los asesinos por continente para obtener una visión más global de la distribución."
   ]
  }
 ],
 "metadata": {
  "kernelspec": {
   "display_name": "Python 3",
   "language": "python",
   "name": "python3"
  },
  "language_info": {
   "codemirror_mode": {
    "name": "ipython",
    "version": 3
   },
   "file_extension": ".py",
   "mimetype": "text/x-python",
   "name": "python",
   "nbconvert_exporter": "python",
   "pygments_lexer": "ipython3",
   "version": "3.11.6"
  }
 },
 "nbformat": 4,
 "nbformat_minor": 2
}
