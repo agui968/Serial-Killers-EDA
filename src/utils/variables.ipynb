{
 "cells": [
  {
   "cell_type": "markdown",
   "metadata": {},
   "source": [
    "# VARIABLES:\n",
    "### * original DF's:\n",
    "(changed columns to lower())\n",
    "\n",
    "-killers: \n",
    "+ hivict\n",
    "+ mainvict\n",
    "+ less5vict\n",
    "+ fr5to14vict\n",
    "\n",
    "-demographics:\n",
    "+ popdens (country)\n",
    "+ povrate (code)\n",
    "+ countrycode\n",
    "\n",
    "### * new DF's:\n",
    "+ cleancountrypovrate= povrate+countrycode\n",
    "+ cleanpopdens = pop density\n",
    "+ ULTIMATE DF: dfkillers=countrycode,popdens, povrate, killers\n",
    "\n",
    "#### provisional variables:\n",
    "\n",
    "+ wrongpovratecountries: filtered array from mask\n",
    "+ wrongpopdenscountries\n",
    "+ wrongkillercountries\n",
    "\n",
    "\n",
    "### ANÁLISIS:\n",
    "- pov rate per country: avgpovratecountry=mergepovrate.groupby('country name')['value'].mean()\n",
    "- **nr of killers per country**: killerspercountry=df.groupby('country')['name'].count().sort_values(ascending=False)\n",
    "- (max nr of victims per country: maxvicpercountry=df.groupby('country')['proven victims'].max().sort_values(ascending=False))\n",
    "- victims per country: victimstats=df.groupby('country')['proven victims'].agg(['mean','max','min']).round(1).sort_values(by='mean', ascending=False)\n",
    "\n"
   ]
  }
 ],
 "metadata": {
  "language_info": {
   "name": "python"
  }
 },
 "nbformat": 4,
 "nbformat_minor": 2
}
