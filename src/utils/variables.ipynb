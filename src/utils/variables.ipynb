{
 "cells": [
  {
   "cell_type": "markdown",
   "metadata": {},
   "source": [
    "# VARIABLES:\n",
    "### * original DF's:\n",
    "(changed columns to lower())\n",
    "\n",
    "-killers: \n",
    "+ hivict\n",
    "+ mainvict\n",
    "+ less5vict\n",
    "+ fr5to14vict\n",
    "\n",
    "-demographics:\n",
    "+ popdens (country)\n",
    "+ povrate (code)\n",
    "+ countrycode\n",
    "\n",
    "### * new DF's:\n",
    "+ cleancountrypovrate= povrate+countrycode\n",
    "+ cleanpopdens = pop density\n",
    "+ ULTIMATE DF: dfkillers=countrycode,popdens, povrate, killers\n",
    "\n",
    "#### provisional variables:\n",
    "\n",
    "+ wrongpovratecountries: filtered array from mask\n",
    "+ wrongpopdenscountries\n",
    "+ wrongkillercountries\n",
    "\n",
    "\n",
    "### ANÁLISIS:\n",
    "- avgpovratecountry=mergepovrate.groupby('country name')['value'].mean()"
   ]
  }
 ],
 "metadata": {
  "language_info": {
   "name": "python"
  }
 },
 "nbformat": 4,
 "nbformat_minor": 2
}
