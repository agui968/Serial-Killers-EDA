{
 "cells": [
  {
   "cell_type": "code",
   "execution_count": 9,
   "metadata": {},
   "outputs": [],
   "source": [
    "import numpy as np\n",
    "import pandas as pd\n",
    "df = pd.read_csv(\"..\\\\data\\\\cleaned\\\\eda_df.csv\",index_col=0)\n",
    "pd.set_option('display.max_columns', 10)\n",
    "pd.set_option('display.max_rows', 355)\n",
    "pd.set_option('display.max_colwidth', 200)"
   ]
  },
  {
   "cell_type": "code",
   "execution_count": 10,
   "metadata": {},
   "outputs": [
    {
     "data": {
      "text/html": [
       "<div>\n",
       "<style scoped>\n",
       "    .dataframe tbody tr th:only-of-type {\n",
       "        vertical-align: middle;\n",
       "    }\n",
       "\n",
       "    .dataframe tbody tr th {\n",
       "        vertical-align: top;\n",
       "    }\n",
       "\n",
       "    .dataframe thead th {\n",
       "        text-align: right;\n",
       "    }\n",
       "</style>\n",
       "<table border=\"1\" class=\"dataframe\">\n",
       "  <thead>\n",
       "    <tr style=\"text-align: right;\">\n",
       "      <th></th>\n",
       "      <th>name</th>\n",
       "      <th>country</th>\n",
       "      <th>years active</th>\n",
       "      <th>proven victims</th>\n",
       "      <th>possible victims</th>\n",
       "      <th>notes</th>\n",
       "      <th>pov rate</th>\n",
       "      <th>density</th>\n",
       "    </tr>\n",
       "  </thead>\n",
       "  <tbody>\n",
       "    <tr>\n",
       "      <th>0</th>\n",
       "      <td>Luis Garavito</td>\n",
       "      <td>Colombia</td>\n",
       "      <td>1992 to 1999</td>\n",
       "      <td>138</td>\n",
       "      <td>172–300+</td>\n",
       "      <td>Child-murderer, torture-killer, and rapist known as \"La Bestia\" (\"The Beast\"). Confessed to killing 140 boys between eight and 16 years old over a seven-year period in Colombia and neighboring cou...</td>\n",
       "      <td>NaN</td>\n",
       "      <td>43.550</td>\n",
       "    </tr>\n",
       "    <tr>\n",
       "      <th>1</th>\n",
       "      <td>Luis Garavito</td>\n",
       "      <td>Ecuador</td>\n",
       "      <td>1992 to 1999</td>\n",
       "      <td>138</td>\n",
       "      <td>172–300+</td>\n",
       "      <td>Child-murderer, torture-killer, and rapist known as \"La Bestia\" (\"The Beast\"). Confessed to killing 140 boys between eight and 16 years old over a seven-year period in Colombia and neighboring cou...</td>\n",
       "      <td>NaN</td>\n",
       "      <td>63.370</td>\n",
       "    </tr>\n",
       "    <tr>\n",
       "      <th>2</th>\n",
       "      <td>Luis Garavito</td>\n",
       "      <td>Venezuela</td>\n",
       "      <td>1992 to 1999</td>\n",
       "      <td>138</td>\n",
       "      <td>172–300+</td>\n",
       "      <td>Child-murderer, torture-killer, and rapist known as \"La Bestia\" (\"The Beast\"). Confessed to killing 140 boys between eight and 16 years old over a seven-year period in Colombia and neighboring cou...</td>\n",
       "      <td>NaN</td>\n",
       "      <td>NaN</td>\n",
       "    </tr>\n",
       "    <tr>\n",
       "      <th>3</th>\n",
       "      <td>Pedro López</td>\n",
       "      <td>Colombia</td>\n",
       "      <td>1969 to 1979</td>\n",
       "      <td>110</td>\n",
       "      <td>300+</td>\n",
       "      <td>Child-murderer and rapist, known as \"The Monster of the Andes\". Targeted young girls, between the ages of eight and 12. Arrested in 1980 and convicted in 1983 of killing three young girls, but cla...</td>\n",
       "      <td>NaN</td>\n",
       "      <td>43.550</td>\n",
       "    </tr>\n",
       "    <tr>\n",
       "      <th>4</th>\n",
       "      <td>Pedro López</td>\n",
       "      <td>Peru</td>\n",
       "      <td>1969 to 1979</td>\n",
       "      <td>110</td>\n",
       "      <td>300+</td>\n",
       "      <td>Child-murderer and rapist, known as \"The Monster of the Andes\". Targeted young girls, between the ages of eight and 12. Arrested in 1980 and convicted in 1983 of killing three young girls, but cla...</td>\n",
       "      <td>NaN</td>\n",
       "      <td>23.730</td>\n",
       "    </tr>\n",
       "  </tbody>\n",
       "</table>\n",
       "</div>"
      ],
      "text/plain": [
       "            name    country  years active proven victims possible victims  \\\n",
       "0  Luis Garavito   Colombia  1992 to 1999            138         172–300+   \n",
       "1  Luis Garavito    Ecuador  1992 to 1999            138         172–300+   \n",
       "2  Luis Garavito  Venezuela  1992 to 1999            138         172–300+   \n",
       "3    Pedro López   Colombia  1969 to 1979            110             300+   \n",
       "4    Pedro López       Peru  1969 to 1979            110             300+   \n",
       "\n",
       "                                                                                                                                                                                                     notes  \\\n",
       "0  Child-murderer, torture-killer, and rapist known as \"La Bestia\" (\"The Beast\"). Confessed to killing 140 boys between eight and 16 years old over a seven-year period in Colombia and neighboring cou...   \n",
       "1  Child-murderer, torture-killer, and rapist known as \"La Bestia\" (\"The Beast\"). Confessed to killing 140 boys between eight and 16 years old over a seven-year period in Colombia and neighboring cou...   \n",
       "2  Child-murderer, torture-killer, and rapist known as \"La Bestia\" (\"The Beast\"). Confessed to killing 140 boys between eight and 16 years old over a seven-year period in Colombia and neighboring cou...   \n",
       "3  Child-murderer and rapist, known as \"The Monster of the Andes\". Targeted young girls, between the ages of eight and 12. Arrested in 1980 and convicted in 1983 of killing three young girls, but cla...   \n",
       "4  Child-murderer and rapist, known as \"The Monster of the Andes\". Targeted young girls, between the ages of eight and 12. Arrested in 1980 and convicted in 1983 of killing three young girls, but cla...   \n",
       "\n",
       "   pov rate density  \n",
       "0       NaN  43.550  \n",
       "1       NaN  63.370  \n",
       "2       NaN     NaN  \n",
       "3       NaN  43.550  \n",
       "4       NaN  23.730  "
      ]
     },
     "execution_count": 10,
     "metadata": {},
     "output_type": "execute_result"
    }
   ],
   "source": [
    "df.head()"
   ]
  },
  {
   "cell_type": "markdown",
   "metadata": {},
   "source": [
    "#### Hipótesis que comprobar:\n",
    "1. Países con alta densidad de población\n",
    "```\n",
    "sort_values(victims)\n",
    "\n",
    "#(sort_values(density)\n",
    "groupby(proven victs)[density]\n",
    "groupby(country)\n",
    "sort_values[proven victs])\n",
    "popdens.mean()\n",
    "[[victims,country]][popdens]>mean\n",
    "```\n",
    "\n",
    "2. Clases socioeconómicas bajas\n",
    "```\n",
    "groupby(proven victs)[pov rate]\n",
    "pov rate.mean()\n",
    "[[victims,country]][pov rate] > mean\n",
    "#sort_values(pov rate)\n",
    "```\n",
    "\n",
    "3. En las series siempre se habla de los casos de estadounidenses, pero ¿realmente son más comunes en **América y Europa** o es solo que en los otros continentes no se estudian estos casos o no se publica esta información? (Claramente partimos del sesgo de nuestra cultura occidental y del peso que tiene EE.UU.)\n",
    "\n",
    "```\n",
    "df[df[country]== 'United States'].value_counts()\n",
    "country.mode()\n",
    "country.value_counts()\n",
    "groupby(country)\n",
    "#boxplot with trendy countries\n",
    "```\n",
    "\n",
    "\n",
    "5. ¿En qué países están los que más asesinatos cometen?\n",
    "```\n",
    "sort_values[proven victims]\n",
    "groupby(country)[proven victims].agg(mean,max,min)\n",
    "\n",
    "```\n",
    "\n",
    "4. ¿En qué países les descubren antes?\n",
    "#usin years active & proven victims\n",
    "\n",
    "6. Quizá haya cierta relación con su **nivel de educación y cultura** (no en todos los casos, claro está), aunque tratar de medir este factor puede ser complicado"
   ]
  },
  {
   "cell_type": "code",
   "execution_count": 11,
   "metadata": {},
   "outputs": [
    {
     "data": {
      "text/plain": [
       "array(['Venezuela', 'Iran', 'Egypt', 'Yemen'], dtype=object)"
      ]
     },
     "execution_count": 11,
     "metadata": {},
     "output_type": "execute_result"
    }
   ],
   "source": [
    "df['country'][(df['density'].isnull()) & (df['pov rate'].isnull())].unique()\n",
    "#no actual demographical data on these countries"
   ]
  }
 ],
 "metadata": {
  "kernelspec": {
   "display_name": "Python 3",
   "language": "python",
   "name": "python3"
  },
  "language_info": {
   "codemirror_mode": {
    "name": "ipython",
    "version": 3
   },
   "file_extension": ".py",
   "mimetype": "text/x-python",
   "name": "python",
   "nbconvert_exporter": "python",
   "pygments_lexer": "ipython3",
   "version": "3.11.6"
  }
 },
 "nbformat": 4,
 "nbformat_minor": 2
}
