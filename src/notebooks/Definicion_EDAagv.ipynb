{
 "cells": [
  {
   "cell_type": "markdown",
   "metadata": {},
   "source": [
    "![imagen](./img/ejercicios.png)"
   ]
  },
  {
   "cell_type": "markdown",
   "metadata": {},
   "source": [
    "# INFORMACIÓN DEL PROYECTO"
   ]
  },
  {
   "cell_type": "markdown",
   "metadata": {},
   "source": [
    "### TÍTULO"
   ]
  },
  {
   "cell_type": "code",
   "execution_count": null,
   "metadata": {},
   "outputs": [],
   "source": [
    "#Escribe el título del proyecto en Markdown\n",
    "titulo = \"¿Es el entorno determinante para los asesinos en serie?\""
   ]
  },
  {
   "cell_type": "markdown",
   "metadata": {},
   "source": [
    "### TEMA"
   ]
  },
  {
   "cell_type": "code",
   "execution_count": null,
   "metadata": {},
   "outputs": [],
   "source": [
    "# Describe brevemente el tema del proyecto en Markdown\n",
    "tema = \"Estudio del lugar de procedencia y datos demográficos de múltiples asesinos en serie para determinar patrones que puedan desencadenar sus conductas\""
   ]
  },
  {
   "cell_type": "markdown",
   "metadata": {},
   "source": [
    "### HIPÓTESIS"
   ]
  },
  {
   "cell_type": "markdown",
   "metadata": {},
   "source": [
    "Define aquí lo que será la hipótesis de tu proyecto.\n",
    "Deberás tener más de una, pero tu proyecto lo harás teniendo una principal hipótesis."
   ]
  },
  {
   "cell_type": "code",
   "execution_count": null,
   "metadata": {},
   "outputs": [],
   "source": [
    "# Escribe tu hipótesis principal en Markdown\n",
    "hipotesis_1 = \"Ese tipo de perfil de asesino tiende a aparecer en lugares con alta densidad de población\""
   ]
  },
  {
   "cell_type": "code",
   "execution_count": null,
   "metadata": {},
   "outputs": [],
   "source": [
    "# Escribe más hipótesis si las hubiera en Markdown\n",
    "hipotesis_2 = \"y en estratos socioeconómicos pobres\"\n",
    "hipotesis_3 = \"¿Son más comunes en América y Europa o es solo que en África no se estudian estos casos? (Se da más bombo a los estadounidenses)\"\n",
    "hipotesis_4 = \"¿Nivel cultural?\"\n",
    "hipotesis_5 = \"En qué países les descubren antes\"\n",
    "hipotesis_6 = \"En qué países están los que más asesinatos cometen?\"\n",
    "hipotesis_7 = \"Relación con la salud mental del país?\"\n",
    "# ..."
   ]
  },
  {
   "cell_type": "markdown",
   "metadata": {},
   "source": [
    "## OBTENCIÓN DE LOS DATOS"
   ]
  },
  {
   "cell_type": "markdown",
   "metadata": {},
   "source": [
    "### DATASETS Y FUENTES ALTERNATIVAS DE DATOS"
   ]
  },
  {
   "cell_type": "markdown",
   "metadata": {},
   "source": [
    "Incluye aquí una vista del dataset o datasets de los que partirás para poder evaluar tu hipótesis. <br>\n",
    "También incluye el origen de estos datos y su fuente."
   ]
  },
  {
   "cell_type": "code",
   "execution_count": 11,
   "metadata": {},
   "outputs": [],
   "source": [
    "import pandas as pd\n",
    "# guarda en variables los datasets y su fuente\n",
    "df_1 = pd.read_csv(\"..\\\\data\\\\Highest_victim_count.csv\") #highest victim count\n",
    "fuente_1 = \"https://www.kaggle.com/datasets/vesuvius13/serial-killers-dataset/data?select=Highest_victim_count.csv\"\n",
    "\n",
    "df_2 = pd.read_json(\"..\\\\data\\\\country-population-density.json\") #population density\n",
    "fuente_2 =\"https://data.world/samayo/country-names/workspace/file?filename=country-population-density.json\"\n",
    "\n",
    "df_3 = pd.read_csv('..\\\\data\\\\poverty_rate.csv') #poverty rate\n",
    "fuente_3 = \"https://data.oecd.org/inequality/poverty-rate.htm\"\n",
    "\n",
    "df_4 = pd.read_csv(\"..\\\\data\\\\15_to_30_victim_count.csv\") #como el 1º pero más ordenado\n",
    "fuente_4 = \"https://www.kaggle.com/datasets/vesuvius13/serial-killers-dataset/data?select=15_to_30_victim_count.csv\"\n",
    "\n",
    "df_5 = pd.read_csv(\"..\\\\data\\\\iso_countrycode.csv\")\n",
    "fuente_5 = \"https://gist.githubusercontent.com/radcliff/f09c0f88344a7fcef373/raw/2753c482ad091c54b1822288ad2e4811c021d8ec/wikipedia-iso-country-codes.csv\"\n",
    "# fuente_6 = \"https://www.workwithdata.com/chart?agg=sum&chart=line&entity=countries_yearly&x=date&y=urban_population\"\n",
    "# fuente_7 = \"https://sedac.ciesin.columbia.edu/data/set/popdynamics-global-pop-density-time-series-estimates/data-download\"\n",
    "# fuente_8 = \"https://catalog.data.gov/dataset/global-population-density-grid-time-series-estimates/resource/bcad4d7c-725f-478c-b641-24e6b9173416\"\n",
    "# fuente_9 = \"https://github.com/lhehnke/serial-killers/blob/master/serial_killers_data.rds\" #(en R, no abierto)"
   ]
  },
  {
   "cell_type": "markdown",
   "metadata": {},
   "source": [
    "Muestra mediante un head() los principales datasets con los que vas a trabajar"
   ]
  },
  {
   "cell_type": "code",
   "execution_count": 5,
   "metadata": {},
   "outputs": [
    {
     "data": {
      "text/html": [
       "<div>\n",
       "<style scoped>\n",
       "    .dataframe tbody tr th:only-of-type {\n",
       "        vertical-align: middle;\n",
       "    }\n",
       "\n",
       "    .dataframe tbody tr th {\n",
       "        vertical-align: top;\n",
       "    }\n",
       "\n",
       "    .dataframe thead th {\n",
       "        text-align: right;\n",
       "    }\n",
       "</style>\n",
       "<table border=\"1\" class=\"dataframe\">\n",
       "  <thead>\n",
       "    <tr style=\"text-align: right;\">\n",
       "      <th></th>\n",
       "      <th>Name</th>\n",
       "      <th>Country</th>\n",
       "      <th>Years active</th>\n",
       "      <th>Proven victims</th>\n",
       "      <th>Possible victims</th>\n",
       "      <th>Notes</th>\n",
       "    </tr>\n",
       "  </thead>\n",
       "  <tbody>\n",
       "    <tr>\n",
       "      <th>0</th>\n",
       "      <td>Luis Garavito</td>\n",
       "      <td>Colombia\\r\\nEcuador\\r\\nVenezuela</td>\n",
       "      <td>1992 to 1999</td>\n",
       "      <td>138</td>\n",
       "      <td>172–300+</td>\n",
       "      <td>Child-murderer, torture-killer, and rapist kno...</td>\n",
       "    </tr>\n",
       "    <tr>\n",
       "      <th>1</th>\n",
       "      <td>Pedro López</td>\n",
       "      <td>Colombia\\r\\nPeru\\r\\nEcuador</td>\n",
       "      <td>1969 to 1979</td>\n",
       "      <td>110</td>\n",
       "      <td>300+</td>\n",
       "      <td>Child-murderer and rapist, known as \"The Monst...</td>\n",
       "    </tr>\n",
       "    <tr>\n",
       "      <th>2</th>\n",
       "      <td>Javed Iqbal</td>\n",
       "      <td>Pakistan</td>\n",
       "      <td>1998 to 1999</td>\n",
       "      <td>100</td>\n",
       "      <td>100</td>\n",
       "      <td>Child-murderer and rapist, known as \"Kukri\", I...</td>\n",
       "    </tr>\n",
       "    <tr>\n",
       "      <th>3</th>\n",
       "      <td>Mikhail Popkov</td>\n",
       "      <td>Russia</td>\n",
       "      <td>1992 to 2010</td>\n",
       "      <td>83</td>\n",
       "      <td>83+</td>\n",
       "      <td>Serial rapist-killer nicknamed \"The Werewolf\",...</td>\n",
       "    </tr>\n",
       "    <tr>\n",
       "      <th>4</th>\n",
       "      <td>Daniel Camargo Barbosa</td>\n",
       "      <td>Colombia\\r\\nEcuador\\r\\nBrazil (alleged)</td>\n",
       "      <td>1974 to 1986</td>\n",
       "      <td>72</td>\n",
       "      <td>180</td>\n",
       "      <td>Child and woman murderer, believed to have pos...</td>\n",
       "    </tr>\n",
       "  </tbody>\n",
       "</table>\n",
       "</div>"
      ],
      "text/plain": [
       "                     Name                                  Country  \\\n",
       "0           Luis Garavito         Colombia\\r\\nEcuador\\r\\nVenezuela   \n",
       "1             Pedro López              Colombia\\r\\nPeru\\r\\nEcuador   \n",
       "2             Javed Iqbal                                 Pakistan   \n",
       "3          Mikhail Popkov                                   Russia   \n",
       "4  Daniel Camargo Barbosa  Colombia\\r\\nEcuador\\r\\nBrazil (alleged)   \n",
       "\n",
       "   Years active  Proven victims Possible victims  \\\n",
       "0  1992 to 1999             138         172–300+   \n",
       "1  1969 to 1979             110             300+   \n",
       "2  1998 to 1999             100              100   \n",
       "3  1992 to 2010              83              83+   \n",
       "4  1974 to 1986              72              180   \n",
       "\n",
       "                                               Notes  \n",
       "0  Child-murderer, torture-killer, and rapist kno...  \n",
       "1  Child-murderer and rapist, known as \"The Monst...  \n",
       "2  Child-murderer and rapist, known as \"Kukri\", I...  \n",
       "3  Serial rapist-killer nicknamed \"The Werewolf\",...  \n",
       "4  Child and woman murderer, believed to have pos...  "
      ]
     },
     "execution_count": 5,
     "metadata": {},
     "output_type": "execute_result"
    }
   ],
   "source": [
    "# Primer dataset\n",
    "df_1.head()"
   ]
  },
  {
   "cell_type": "code",
   "execution_count": 6,
   "metadata": {},
   "outputs": [
    {
     "data": {
      "text/html": [
       "<div>\n",
       "<style scoped>\n",
       "    .dataframe tbody tr th:only-of-type {\n",
       "        vertical-align: middle;\n",
       "    }\n",
       "\n",
       "    .dataframe tbody tr th {\n",
       "        vertical-align: top;\n",
       "    }\n",
       "\n",
       "    .dataframe thead th {\n",
       "        text-align: right;\n",
       "    }\n",
       "</style>\n",
       "<table border=\"1\" class=\"dataframe\">\n",
       "  <thead>\n",
       "    <tr style=\"text-align: right;\">\n",
       "      <th></th>\n",
       "      <th>country</th>\n",
       "      <th>density</th>\n",
       "    </tr>\n",
       "  </thead>\n",
       "  <tbody>\n",
       "    <tr>\n",
       "      <th>0</th>\n",
       "      <td>Afghanistan</td>\n",
       "      <td>46.800</td>\n",
       "    </tr>\n",
       "    <tr>\n",
       "      <th>1</th>\n",
       "      <td>Albania</td>\n",
       "      <td>101.230</td>\n",
       "    </tr>\n",
       "    <tr>\n",
       "      <th>2</th>\n",
       "      <td>Algeria</td>\n",
       "      <td>16.460</td>\n",
       "    </tr>\n",
       "    <tr>\n",
       "      <th>3</th>\n",
       "      <td>American Samoa</td>\n",
       "      <td>275.830</td>\n",
       "    </tr>\n",
       "    <tr>\n",
       "      <th>4</th>\n",
       "      <td>Andorra</td>\n",
       "      <td>168.550</td>\n",
       "    </tr>\n",
       "  </tbody>\n",
       "</table>\n",
       "</div>"
      ],
      "text/plain": [
       "          country  density\n",
       "0     Afghanistan   46.800\n",
       "1         Albania  101.230\n",
       "2         Algeria   16.460\n",
       "3  American Samoa  275.830\n",
       "4         Andorra  168.550"
      ]
     },
     "execution_count": 6,
     "metadata": {},
     "output_type": "execute_result"
    }
   ],
   "source": [
    "#Segundo dataset\n",
    "df_2.head()"
   ]
  },
  {
   "cell_type": "code",
   "execution_count": 7,
   "metadata": {},
   "outputs": [
    {
     "data": {
      "text/html": [
       "<div>\n",
       "<style scoped>\n",
       "    .dataframe tbody tr th:only-of-type {\n",
       "        vertical-align: middle;\n",
       "    }\n",
       "\n",
       "    .dataframe tbody tr th {\n",
       "        vertical-align: top;\n",
       "    }\n",
       "\n",
       "    .dataframe thead th {\n",
       "        text-align: right;\n",
       "    }\n",
       "</style>\n",
       "<table border=\"1\" class=\"dataframe\">\n",
       "  <thead>\n",
       "    <tr style=\"text-align: right;\">\n",
       "      <th></th>\n",
       "      <th>LOCATION</th>\n",
       "      <th>INDICATOR</th>\n",
       "      <th>SUBJECT</th>\n",
       "      <th>MEASURE</th>\n",
       "      <th>FREQUENCY</th>\n",
       "      <th>TIME</th>\n",
       "      <th>Value</th>\n",
       "      <th>Flag Codes</th>\n",
       "    </tr>\n",
       "  </thead>\n",
       "  <tbody>\n",
       "    <tr>\n",
       "      <th>0</th>\n",
       "      <td>AUT</td>\n",
       "      <td>POVERTY</td>\n",
       "      <td>TOT</td>\n",
       "      <td>RT</td>\n",
       "      <td>A</td>\n",
       "      <td>2007</td>\n",
       "      <td>0.097</td>\n",
       "      <td>NaN</td>\n",
       "    </tr>\n",
       "    <tr>\n",
       "      <th>1</th>\n",
       "      <td>AUT</td>\n",
       "      <td>POVERTY</td>\n",
       "      <td>TOT</td>\n",
       "      <td>RT</td>\n",
       "      <td>A</td>\n",
       "      <td>2008</td>\n",
       "      <td>0.093</td>\n",
       "      <td>NaN</td>\n",
       "    </tr>\n",
       "    <tr>\n",
       "      <th>2</th>\n",
       "      <td>AUT</td>\n",
       "      <td>POVERTY</td>\n",
       "      <td>TOT</td>\n",
       "      <td>RT</td>\n",
       "      <td>A</td>\n",
       "      <td>2009</td>\n",
       "      <td>0.096</td>\n",
       "      <td>NaN</td>\n",
       "    </tr>\n",
       "    <tr>\n",
       "      <th>3</th>\n",
       "      <td>AUT</td>\n",
       "      <td>POVERTY</td>\n",
       "      <td>TOT</td>\n",
       "      <td>RT</td>\n",
       "      <td>A</td>\n",
       "      <td>2010</td>\n",
       "      <td>0.089</td>\n",
       "      <td>NaN</td>\n",
       "    </tr>\n",
       "    <tr>\n",
       "      <th>4</th>\n",
       "      <td>CAN</td>\n",
       "      <td>POVERTY</td>\n",
       "      <td>TOT</td>\n",
       "      <td>RT</td>\n",
       "      <td>A</td>\n",
       "      <td>1980</td>\n",
       "      <td>0.131</td>\n",
       "      <td>NaN</td>\n",
       "    </tr>\n",
       "  </tbody>\n",
       "</table>\n",
       "</div>"
      ],
      "text/plain": [
       "  LOCATION INDICATOR SUBJECT MEASURE FREQUENCY  TIME  Value  Flag Codes\n",
       "0      AUT   POVERTY     TOT      RT         A  2007  0.097         NaN\n",
       "1      AUT   POVERTY     TOT      RT         A  2008  0.093         NaN\n",
       "2      AUT   POVERTY     TOT      RT         A  2009  0.096         NaN\n",
       "3      AUT   POVERTY     TOT      RT         A  2010  0.089         NaN\n",
       "4      CAN   POVERTY     TOT      RT         A  1980  0.131         NaN"
      ]
     },
     "execution_count": 7,
     "metadata": {},
     "output_type": "execute_result"
    }
   ],
   "source": [
    "# Tercer dataset\n",
    "df_3.head() #(por km**2), usar solo columnas Location y Value\n",
    "# df_3[['LOCATION','Value']]"
   ]
  },
  {
   "cell_type": "code",
   "execution_count": 9,
   "metadata": {},
   "outputs": [
    {
     "data": {
      "text/html": [
       "<div>\n",
       "<style scoped>\n",
       "    .dataframe tbody tr th:only-of-type {\n",
       "        vertical-align: middle;\n",
       "    }\n",
       "\n",
       "    .dataframe tbody tr th {\n",
       "        vertical-align: top;\n",
       "    }\n",
       "\n",
       "    .dataframe thead th {\n",
       "        text-align: right;\n",
       "    }\n",
       "</style>\n",
       "<table border=\"1\" class=\"dataframe\">\n",
       "  <thead>\n",
       "    <tr style=\"text-align: right;\">\n",
       "      <th></th>\n",
       "      <th>Name</th>\n",
       "      <th>Country</th>\n",
       "      <th>Years active</th>\n",
       "      <th>Proven victims</th>\n",
       "      <th>Possible victims</th>\n",
       "      <th>Notes</th>\n",
       "    </tr>\n",
       "  </thead>\n",
       "  <tbody>\n",
       "    <tr>\n",
       "      <th>28</th>\n",
       "      <td>Alexander Spesivtsev</td>\n",
       "      <td>Russia</td>\n",
       "      <td>1991 to 1996</td>\n",
       "      <td>19</td>\n",
       "      <td>82+</td>\n",
       "      <td>Cannibal known as \"The Novokuznetsk Monster\"; ...</td>\n",
       "    </tr>\n",
       "    <tr>\n",
       "      <th>51</th>\n",
       "      <td>Randy Steven Kraft</td>\n",
       "      <td>United States</td>\n",
       "      <td>1971 to 1983</td>\n",
       "      <td>16</td>\n",
       "      <td>65–67</td>\n",
       "      <td>Convicted of 16 counts of murder but left a cr...</td>\n",
       "    </tr>\n",
       "    <tr>\n",
       "      <th>18</th>\n",
       "      <td>Manuel Octavio Bermúdez</td>\n",
       "      <td>Colombia</td>\n",
       "      <td>1999 to 2003</td>\n",
       "      <td>21</td>\n",
       "      <td>50+</td>\n",
       "      <td>Colombian pedophile and serial killer. Known a...</td>\n",
       "    </tr>\n",
       "    <tr>\n",
       "      <th>3</th>\n",
       "      <td>David Thabo Simelane</td>\n",
       "      <td>Swaziland</td>\n",
       "      <td>2000 to 2001</td>\n",
       "      <td>28</td>\n",
       "      <td>45</td>\n",
       "      <td>Sexually assaulted women he befriended in fore...</td>\n",
       "    </tr>\n",
       "    <tr>\n",
       "      <th>41</th>\n",
       "      <td>Randall Woodfield</td>\n",
       "      <td>United States</td>\n",
       "      <td>1979 to 1981</td>\n",
       "      <td>18</td>\n",
       "      <td>44</td>\n",
       "      <td>Known as \"The I-5 Killer\" and \"The I-5 Bandit....</td>\n",
       "    </tr>\n",
       "  </tbody>\n",
       "</table>\n",
       "</div>"
      ],
      "text/plain": [
       "                       Name        Country  Years active  Proven victims  \\\n",
       "28     Alexander Spesivtsev         Russia  1991 to 1996              19   \n",
       "51       Randy Steven Kraft  United States  1971 to 1983              16   \n",
       "18  Manuel Octavio Bermúdez       Colombia  1999 to 2003              21   \n",
       "3      David Thabo Simelane      Swaziland  2000 to 2001              28   \n",
       "41        Randall Woodfield  United States  1979 to 1981              18   \n",
       "\n",
       "   Possible victims                                              Notes  \n",
       "28              82+  Cannibal known as \"The Novokuznetsk Monster\"; ...  \n",
       "51            65–67  Convicted of 16 counts of murder but left a cr...  \n",
       "18              50+  Colombian pedophile and serial killer. Known a...  \n",
       "3                45  Sexually assaulted women he befriended in fore...  \n",
       "41               44  Known as \"The I-5 Killer\" and \"The I-5 Bandit....  "
      ]
     },
     "execution_count": 9,
     "metadata": {},
     "output_type": "execute_result"
    }
   ],
   "source": [
    "# Siguiente dataset...\n",
    "df_4.sort_values(['Possible victims'],ascending=False).head()"
   ]
  },
  {
   "cell_type": "code",
   "execution_count": 12,
   "metadata": {},
   "outputs": [
    {
     "data": {
      "text/html": [
       "<div>\n",
       "<style scoped>\n",
       "    .dataframe tbody tr th:only-of-type {\n",
       "        vertical-align: middle;\n",
       "    }\n",
       "\n",
       "    .dataframe tbody tr th {\n",
       "        vertical-align: top;\n",
       "    }\n",
       "\n",
       "    .dataframe thead th {\n",
       "        text-align: right;\n",
       "    }\n",
       "</style>\n",
       "<table border=\"1\" class=\"dataframe\">\n",
       "  <thead>\n",
       "    <tr style=\"text-align: right;\">\n",
       "      <th></th>\n",
       "      <th>English short name lower case</th>\n",
       "      <th>Alpha-2 code</th>\n",
       "      <th>Alpha-3 code</th>\n",
       "      <th>Numeric code</th>\n",
       "      <th>ISO 3166-2</th>\n",
       "    </tr>\n",
       "  </thead>\n",
       "  <tbody>\n",
       "    <tr>\n",
       "      <th>0</th>\n",
       "      <td>Afghanistan</td>\n",
       "      <td>AF</td>\n",
       "      <td>AFG</td>\n",
       "      <td>4</td>\n",
       "      <td>ISO 3166-2:AF</td>\n",
       "    </tr>\n",
       "    <tr>\n",
       "      <th>1</th>\n",
       "      <td>Åland Islands</td>\n",
       "      <td>AX</td>\n",
       "      <td>ALA</td>\n",
       "      <td>248</td>\n",
       "      <td>ISO 3166-2:AX</td>\n",
       "    </tr>\n",
       "    <tr>\n",
       "      <th>2</th>\n",
       "      <td>Albania</td>\n",
       "      <td>AL</td>\n",
       "      <td>ALB</td>\n",
       "      <td>8</td>\n",
       "      <td>ISO 3166-2:AL</td>\n",
       "    </tr>\n",
       "    <tr>\n",
       "      <th>3</th>\n",
       "      <td>Algeria</td>\n",
       "      <td>DZ</td>\n",
       "      <td>DZA</td>\n",
       "      <td>12</td>\n",
       "      <td>ISO 3166-2:DZ</td>\n",
       "    </tr>\n",
       "    <tr>\n",
       "      <th>4</th>\n",
       "      <td>American Samoa</td>\n",
       "      <td>AS</td>\n",
       "      <td>ASM</td>\n",
       "      <td>16</td>\n",
       "      <td>ISO 3166-2:AS</td>\n",
       "    </tr>\n",
       "  </tbody>\n",
       "</table>\n",
       "</div>"
      ],
      "text/plain": [
       "  English short name lower case Alpha-2 code Alpha-3 code  Numeric code  \\\n",
       "0                   Afghanistan           AF          AFG             4   \n",
       "1                 Åland Islands           AX          ALA           248   \n",
       "2                       Albania           AL          ALB             8   \n",
       "3                       Algeria           DZ          DZA            12   \n",
       "4                American Samoa           AS          ASM            16   \n",
       "\n",
       "      ISO 3166-2  \n",
       "0  ISO 3166-2:AF  \n",
       "1  ISO 3166-2:AX  \n",
       "2  ISO 3166-2:AL  \n",
       "3  ISO 3166-2:DZ  \n",
       "4  ISO 3166-2:AS  "
      ]
     },
     "execution_count": 12,
     "metadata": {},
     "output_type": "execute_result"
    }
   ],
   "source": [
    "df_5.head() #solo cols name y alpha-3"
   ]
  },
  {
   "cell_type": "code",
   "execution_count": null,
   "metadata": {},
   "outputs": [],
   "source": [
    "#OPCIÓN 2\n",
    "título2 = \"El contexto de la generación de cristal\"\n",
    "tema2 = \"La salud mental de los jóvenes de hoy en día en relación con su situación laboral y riqueza/patrimonio\""
   ]
  }
 ],
 "metadata": {
  "kernelspec": {
   "display_name": "Python 3.7.4 64-bit",
   "language": "python",
   "name": "python3"
  },
  "language_info": {
   "codemirror_mode": {
    "name": "ipython",
    "version": 3
   },
   "file_extension": ".py",
   "mimetype": "text/x-python",
   "name": "python",
   "nbconvert_exporter": "python",
   "pygments_lexer": "ipython3",
   "version": "3.11.6"
  },
  "orig_nbformat": 4,
  "vscode": {
   "interpreter": {
    "hash": "90139cb9a825bf3d63f6f6704e828dbd1ff7edbd4d0c6e906a71235d6efc74af"
   }
  }
 },
 "nbformat": 4,
 "nbformat_minor": 2
}
