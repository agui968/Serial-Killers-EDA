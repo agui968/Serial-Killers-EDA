{
 "cells": [
  {
   "cell_type": "code",
   "execution_count": 1,
   "metadata": {},
   "outputs": [],
   "source": [
    "import numpy as np\n",
    "import pandas as pd\n",
    "df = pd.read_csv(\"..\\\\data\\\\cleaned\\\\eda_df.csv\",index_col=0)\n",
    "pd.set_option('display.max_columns', 10)\n",
    "pd.set_option('display.max_rows', 355)\n",
    "pd.set_option('display.max_colwidth', 200)"
   ]
  },
  {
   "cell_type": "code",
   "execution_count": 2,
   "metadata": {},
   "outputs": [
    {
     "data": {
      "text/plain": [
       "array(['Venezuela', 'Iran', 'Egypt', 'Yemen'], dtype=object)"
      ]
     },
     "execution_count": 2,
     "metadata": {},
     "output_type": "execute_result"
    }
   ],
   "source": [
    "df['country'][(df['density'].isnull()) & (df['pov rate'].isnull())].unique()\n",
    "\n",
    "#no actual demographical data on these countries"
   ]
  },
  {
   "cell_type": "code",
   "execution_count": 3,
   "metadata": {},
   "outputs": [
    {
     "name": "stdout",
     "output_type": "stream",
     "text": [
      "<class 'pandas.core.frame.DataFrame'>\n",
      "Index: 355 entries, 0 to 354\n",
      "Data columns (total 8 columns):\n",
      " #   Column            Non-Null Count  Dtype  \n",
      "---  ------            --------------  -----  \n",
      " 0   name              355 non-null    object \n",
      " 1   country           355 non-null    object \n",
      " 2   years active      355 non-null    object \n",
      " 3   proven victims    355 non-null    object \n",
      " 4   possible victims  284 non-null    object \n",
      " 5   notes             355 non-null    object \n",
      " 6   pov rate          205 non-null    float64\n",
      " 7   density           342 non-null    object \n",
      "dtypes: float64(1), object(7)\n",
      "memory usage: 25.0+ KB\n"
     ]
    }
   ],
   "source": [
    "df.info()"
   ]
  },
  {
   "cell_type": "markdown",
   "metadata": {},
   "source": [
    "### Change df str columns to int/float"
   ]
  },
  {
   "cell_type": "code",
   "execution_count": 4,
   "metadata": {},
   "outputs": [
    {
     "data": {
      "text/plain": [
       "Index(['name', 'country', 'years active', 'proven victims', 'possible victims',\n",
       "       'notes', 'pov rate', 'density'],\n",
       "      dtype='object')"
      ]
     },
     "execution_count": 4,
     "metadata": {},
     "output_type": "execute_result"
    }
   ],
   "source": [
    "df.columns"
   ]
  },
  {
   "cell_type": "code",
   "execution_count": 5,
   "metadata": {},
   "outputs": [
    {
     "data": {
      "text/html": [
       "<div>\n",
       "<style scoped>\n",
       "    .dataframe tbody tr th:only-of-type {\n",
       "        vertical-align: middle;\n",
       "    }\n",
       "\n",
       "    .dataframe tbody tr th {\n",
       "        vertical-align: top;\n",
       "    }\n",
       "\n",
       "    .dataframe thead th {\n",
       "        text-align: right;\n",
       "    }\n",
       "</style>\n",
       "<table border=\"1\" class=\"dataframe\">\n",
       "  <thead>\n",
       "    <tr style=\"text-align: right;\">\n",
       "      <th></th>\n",
       "      <th>name</th>\n",
       "      <th>country</th>\n",
       "      <th>years active</th>\n",
       "      <th>proven victims</th>\n",
       "      <th>possible victims</th>\n",
       "      <th>notes</th>\n",
       "      <th>pov rate</th>\n",
       "      <th>density</th>\n",
       "    </tr>\n",
       "  </thead>\n",
       "  <tbody>\n",
       "    <tr>\n",
       "      <th>187</th>\n",
       "      <td>Herb Baumeister</td>\n",
       "      <td>United States</td>\n",
       "      <td>1990 to 1996</td>\n",
       "      <td>11–16</td>\n",
       "      <td>25+</td>\n",
       "      <td>Strangled gay men and buried their bodies in his backyard in Indiana and Ohio; 11 men were found in the yard but only five were identified. Committed suicide by shooting himself when faced with ar...</td>\n",
       "      <td>0.169000</td>\n",
       "      <td>34.560</td>\n",
       "    </tr>\n",
       "    <tr>\n",
       "      <th>239</th>\n",
       "      <td>Volker Eckert</td>\n",
       "      <td>Germany</td>\n",
       "      <td>1974 to 2006</td>\n",
       "      <td>9–13</td>\n",
       "      <td>19+</td>\n",
       "      <td>German trucker who confessed to having abducted, tortured and killed five prostitutes through his route in Western Europe, plus strangling a 14-year-old girl in his native West Germany in 1974, wh...</td>\n",
       "      <td>0.103500</td>\n",
       "      <td>231.310</td>\n",
       "    </tr>\n",
       "    <tr>\n",
       "      <th>240</th>\n",
       "      <td>Volker Eckert</td>\n",
       "      <td>Germany</td>\n",
       "      <td>1974 to 2006</td>\n",
       "      <td>9–13</td>\n",
       "      <td>19+</td>\n",
       "      <td>German trucker who confessed to having abducted, tortured and killed five prostitutes through his route in Western Europe, plus strangling a 14-year-old girl in his native West Germany in 1974, wh...</td>\n",
       "      <td>0.103500</td>\n",
       "      <td>231.310</td>\n",
       "    </tr>\n",
       "    <tr>\n",
       "      <th>241</th>\n",
       "      <td>Volker Eckert</td>\n",
       "      <td>France</td>\n",
       "      <td>1974 to 2006</td>\n",
       "      <td>9–13</td>\n",
       "      <td>19+</td>\n",
       "      <td>German trucker who confessed to having abducted, tortured and killed five prostitutes through his route in Western Europe, plus strangling a 14-year-old girl in his native West Germany in 1974, wh...</td>\n",
       "      <td>0.084500</td>\n",
       "      <td>120.590</td>\n",
       "    </tr>\n",
       "    <tr>\n",
       "      <th>242</th>\n",
       "      <td>Volker Eckert</td>\n",
       "      <td>Spain</td>\n",
       "      <td>1974 to 2006</td>\n",
       "      <td>9–13</td>\n",
       "      <td>19+</td>\n",
       "      <td>German trucker who confessed to having abducted, tortured and killed five prostitutes through his route in Western Europe, plus strangling a 14-year-old girl in his native West Germany in 1974, wh...</td>\n",
       "      <td>0.147667</td>\n",
       "      <td>93.520</td>\n",
       "    </tr>\n",
       "    <tr>\n",
       "      <th>243</th>\n",
       "      <td>Volker Eckert</td>\n",
       "      <td>Czech Republic</td>\n",
       "      <td>1974 to 2006</td>\n",
       "      <td>9–13</td>\n",
       "      <td>19+</td>\n",
       "      <td>German trucker who confessed to having abducted, tortured and killed five prostitutes through his route in Western Europe, plus strangling a 14-year-old girl in his native West Germany in 1974, wh...</td>\n",
       "      <td>0.056667</td>\n",
       "      <td>136.240</td>\n",
       "    </tr>\n",
       "    <tr>\n",
       "      <th>244</th>\n",
       "      <td>Volker Eckert</td>\n",
       "      <td>Italy</td>\n",
       "      <td>1974 to 2006</td>\n",
       "      <td>9–13</td>\n",
       "      <td>19+</td>\n",
       "      <td>German trucker who confessed to having abducted, tortured and killed five prostitutes through his route in Western Europe, plus strangling a 14-year-old girl in his native West Germany in 1974, wh...</td>\n",
       "      <td>0.137667</td>\n",
       "      <td>203.410</td>\n",
       "    </tr>\n",
       "    <tr>\n",
       "      <th>263</th>\n",
       "      <td>Joseph Paul Franklin</td>\n",
       "      <td>United States</td>\n",
       "      <td>1977 to 1980</td>\n",
       "      <td>8–15</td>\n",
       "      <td>20</td>\n",
       "      <td>White supremacist shooter who confessed to 20 murders and several attempted murders. Executed by lethal injection in 2013.</td>\n",
       "      <td>0.169000</td>\n",
       "      <td>34.560</td>\n",
       "    </tr>\n",
       "    <tr>\n",
       "      <th>264</th>\n",
       "      <td>Yoshio Kodaira</td>\n",
       "      <td>China</td>\n",
       "      <td>1928? to 1946</td>\n",
       "      <td>8–11+</td>\n",
       "      <td>Unknown</td>\n",
       "      <td>A serial rapist, Kodaira killed his father-in-law in 1932 and eight to 10 women in Japan between 1945 and 1946, engaging in necrophilia after the fifth murder. Previously (1920s) he had been deplo...</td>\n",
       "      <td>NaN</td>\n",
       "      <td>144.580</td>\n",
       "    </tr>\n",
       "    <tr>\n",
       "      <th>265</th>\n",
       "      <td>Yoshio Kodaira</td>\n",
       "      <td>Japan</td>\n",
       "      <td>1928? to 1946</td>\n",
       "      <td>8–11+</td>\n",
       "      <td>Unknown</td>\n",
       "      <td>A serial rapist, Kodaira killed his father-in-law in 1932 and eight to 10 women in Japan between 1945 and 1946, engaging in necrophilia after the fifth murder. Previously (1920s) he had been deplo...</td>\n",
       "      <td>0.157000</td>\n",
       "      <td>349.290</td>\n",
       "    </tr>\n",
       "  </tbody>\n",
       "</table>\n",
       "</div>"
      ],
      "text/plain": [
       "                     name         country   years active proven victims  \\\n",
       "187       Herb Baumeister   United States   1990 to 1996          11–16   \n",
       "239         Volker Eckert         Germany   1974 to 2006           9–13   \n",
       "240         Volker Eckert         Germany   1974 to 2006           9–13   \n",
       "241         Volker Eckert          France   1974 to 2006           9–13   \n",
       "242         Volker Eckert           Spain   1974 to 2006           9–13   \n",
       "243         Volker Eckert  Czech Republic   1974 to 2006           9–13   \n",
       "244         Volker Eckert           Italy   1974 to 2006           9–13   \n",
       "263  Joseph Paul Franklin   United States   1977 to 1980           8–15   \n",
       "264        Yoshio Kodaira           China  1928? to 1946          8–11+   \n",
       "265        Yoshio Kodaira           Japan  1928? to 1946          8–11+   \n",
       "\n",
       "    possible victims  \\\n",
       "187              25+   \n",
       "239              19+   \n",
       "240              19+   \n",
       "241              19+   \n",
       "242              19+   \n",
       "243              19+   \n",
       "244              19+   \n",
       "263               20   \n",
       "264          Unknown   \n",
       "265          Unknown   \n",
       "\n",
       "                                                                                                                                                                                                       notes  \\\n",
       "187  Strangled gay men and buried their bodies in his backyard in Indiana and Ohio; 11 men were found in the yard but only five were identified. Committed suicide by shooting himself when faced with ar...   \n",
       "239  German trucker who confessed to having abducted, tortured and killed five prostitutes through his route in Western Europe, plus strangling a 14-year-old girl in his native West Germany in 1974, wh...   \n",
       "240  German trucker who confessed to having abducted, tortured and killed five prostitutes through his route in Western Europe, plus strangling a 14-year-old girl in his native West Germany in 1974, wh...   \n",
       "241  German trucker who confessed to having abducted, tortured and killed five prostitutes through his route in Western Europe, plus strangling a 14-year-old girl in his native West Germany in 1974, wh...   \n",
       "242  German trucker who confessed to having abducted, tortured and killed five prostitutes through his route in Western Europe, plus strangling a 14-year-old girl in his native West Germany in 1974, wh...   \n",
       "243  German trucker who confessed to having abducted, tortured and killed five prostitutes through his route in Western Europe, plus strangling a 14-year-old girl in his native West Germany in 1974, wh...   \n",
       "244  German trucker who confessed to having abducted, tortured and killed five prostitutes through his route in Western Europe, plus strangling a 14-year-old girl in his native West Germany in 1974, wh...   \n",
       "263                                                                               White supremacist shooter who confessed to 20 murders and several attempted murders. Executed by lethal injection in 2013.   \n",
       "264  A serial rapist, Kodaira killed his father-in-law in 1932 and eight to 10 women in Japan between 1945 and 1946, engaging in necrophilia after the fifth murder. Previously (1920s) he had been deplo...   \n",
       "265  A serial rapist, Kodaira killed his father-in-law in 1932 and eight to 10 women in Japan between 1945 and 1946, engaging in necrophilia after the fifth murder. Previously (1920s) he had been deplo...   \n",
       "\n",
       "     pov rate  density  \n",
       "187  0.169000   34.560  \n",
       "239  0.103500  231.310  \n",
       "240  0.103500  231.310  \n",
       "241  0.084500  120.590  \n",
       "242  0.147667   93.520  \n",
       "243  0.056667  136.240  \n",
       "244  0.137667  203.410  \n",
       "263  0.169000   34.560  \n",
       "264       NaN  144.580  \n",
       "265  0.157000  349.290  "
      ]
     },
     "execution_count": 5,
     "metadata": {},
     "output_type": "execute_result"
    }
   ],
   "source": [
    "df[df['proven victims'].str.contains('–')]#.str.split('–')"
   ]
  },
  {
   "cell_type": "code",
   "execution_count": 6,
   "metadata": {},
   "outputs": [],
   "source": [
    "df['proven victims']=df['proven victims'].str.split('–').str[0] #keep just the first element of the range of victims"
   ]
  },
  {
   "cell_type": "code",
   "execution_count": 7,
   "metadata": {},
   "outputs": [],
   "source": [
    "df['density']=df['density'].str.replace(\",\",\"\") #remove \",\" from density to convert to float"
   ]
  },
  {
   "cell_type": "code",
   "execution_count": 8,
   "metadata": {},
   "outputs": [],
   "source": [
    "df['proven victims']=df['proven victims'].astype(int)\n",
    "df['pov rate']=df['pov rate'].astype(float)\n",
    "df['density']=df['density'].astype(float)"
   ]
  },
  {
   "cell_type": "code",
   "execution_count": 1,
   "metadata": {},
   "outputs": [],
   "source": [
    "# df.to_csv(\"..\\\\data\\\\cleaned\\\\eda_dft.csv\")"
   ]
  },
  {
   "cell_type": "code",
   "execution_count": 2,
   "metadata": {},
   "outputs": [],
   "source": [
    "# df.tail()"
   ]
  },
  {
   "cell_type": "code",
   "execution_count": 11,
   "metadata": {},
   "outputs": [
    {
     "name": "stdout",
     "output_type": "stream",
     "text": [
      "<class 'pandas.core.frame.DataFrame'>\n",
      "Index: 355 entries, 0 to 354\n",
      "Data columns (total 8 columns):\n",
      " #   Column            Non-Null Count  Dtype  \n",
      "---  ------            --------------  -----  \n",
      " 0   name              355 non-null    object \n",
      " 1   country           355 non-null    object \n",
      " 2   years active      355 non-null    object \n",
      " 3   proven victims    355 non-null    int32  \n",
      " 4   possible victims  284 non-null    object \n",
      " 5   notes             355 non-null    object \n",
      " 6   pov rate          205 non-null    float64\n",
      " 7   density           342 non-null    float64\n",
      "dtypes: float64(2), int32(1), object(5)\n",
      "memory usage: 23.6+ KB\n"
     ]
    }
   ],
   "source": [
    "df.info()"
   ]
  }
 ],
 "metadata": {
  "kernelspec": {
   "display_name": "Python 3",
   "language": "python",
   "name": "python3"
  },
  "language_info": {
   "codemirror_mode": {
    "name": "ipython",
    "version": 3
   },
   "file_extension": ".py",
   "mimetype": "text/x-python",
   "name": "python",
   "nbconvert_exporter": "python",
   "pygments_lexer": "ipython3",
   "version": "3.11.6"
  }
 },
 "nbformat": 4,
 "nbformat_minor": 2
}
