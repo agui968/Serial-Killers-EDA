{
 "cells": [
  {
   "cell_type": "code",
   "execution_count": 1,
   "metadata": {},
   "outputs": [],
   "source": [
    "import numpy as np\n",
    "import pandas as pd\n",
    "exphivict = pd.read_csv(\"..\\\\utils\\\\exp_highest_victim.csv\") #highest victim count\n",
    "\n",
    "exp30vict = pd.read_csv(\"..\\\\utils\\\\exp15_30_victim.csv\") #main, 15-30 victim count\n",
    "\n",
    "exp5vict=pd.read_csv(\"..\\\\utils\\\\exp_less5_victim.csv\")\n",
    "\n",
    "exp14vict=pd.read_csv(\"..\\\\utils\\\\exp5_14_victim.csv\")"
   ]
  },
  {
   "cell_type": "code",
   "execution_count": 2,
   "metadata": {},
   "outputs": [],
   "source": [
    "pd.set_option('display.max_columns', 200)\n",
    "pd.set_option('display.max_rows', 760)\n",
    "pd.set_option('display.max_colwidth', 200)"
   ]
  },
  {
   "cell_type": "markdown",
   "metadata": {},
   "source": [
    "## cleaning country names in killers df's"
   ]
  },
  {
   "cell_type": "code",
   "execution_count": 6,
   "metadata": {},
   "outputs": [],
   "source": [
    "#general df with all the killers and victim count\n",
    "totalvict=pd.concat([exphivict,exp30vict,exp14vict,exp5vict],axis=0,ignore_index=True)\n",
    "totalvict=totalvict.drop(columns='Unnamed: 0')\n",
    "totalvict.to_csv('..\\\\utils\\\\total_vict_killers')"
   ]
  },
  {
   "cell_type": "code",
   "execution_count": 7,
   "metadata": {},
   "outputs": [],
   "source": [
    "#countries in killers dfs\n",
    "\n",
    "killercountries=list(exphivict['country'].unique())+list(exp30vict['country'].unique())+list(exp14vict['country'].unique())+list(exp5vict['country'].unique())"
   ]
  },
  {
   "cell_type": "code",
   "execution_count": 8,
   "metadata": {},
   "outputs": [],
   "source": [
    "killercountries=totalvict['country'].unique()"
   ]
  },
  {
   "cell_type": "code",
   "execution_count": 9,
   "metadata": {},
   "outputs": [],
   "source": [
    "killercountries=list(set(killercountries))\n",
    "len(killercountries)\n",
    "killercountries.sort()"
   ]
  },
  {
   "cell_type": "code",
   "execution_count": 10,
   "metadata": {},
   "outputs": [
    {
     "data": {
      "text/plain": [
       "[' Iran',\n",
       " ' Iraq',\n",
       " ' Portuguese Angola',\n",
       " 'Afghanistan',\n",
       " 'Allied-occupied Germany',\n",
       " 'Argentina',\n",
       " 'Australia',\n",
       " 'Austria',\n",
       " 'Austria-Hungary',\n",
       " 'Bangladesh',\n",
       " 'Belarus',\n",
       " 'Belgium',\n",
       " 'Brazil',\n",
       " 'Canada',\n",
       " 'Chile',\n",
       " 'China',\n",
       " 'Colombia',\n",
       " 'Costa Rica',\n",
       " 'Cyprus',\n",
       " 'Czech Republic',\n",
       " 'Czechoslovakia',\n",
       " 'Denmark',\n",
       " 'East Germany',\n",
       " 'Ecuador',\n",
       " 'Egypt',\n",
       " 'France',\n",
       " 'German Empire',\n",
       " 'Germany',\n",
       " 'Greece',\n",
       " 'Hungary',\n",
       " 'India',\n",
       " 'Indonesia',\n",
       " 'Iran',\n",
       " 'Ireland',\n",
       " 'Italy',\n",
       " 'Japan',\n",
       " 'Kingdom of Romania',\n",
       " 'Latvia',\n",
       " 'Malaysia',\n",
       " 'Mexico',\n",
       " 'Morocco',\n",
       " 'Nepal',\n",
       " 'Netherlands',\n",
       " 'Ottoman Empire',\n",
       " 'Pakistan',\n",
       " 'Peru',\n",
       " 'Poland',\n",
       " 'Romania',\n",
       " 'Russia',\n",
       " 'Singapore',\n",
       " 'South Africa',\n",
       " 'South Korea',\n",
       " 'Soviet Union',\n",
       " 'Spain',\n",
       " 'Swaziland',\n",
       " 'Switzerland',\n",
       " 'Tajikistan',\n",
       " 'Thailand',\n",
       " 'Tunisia',\n",
       " 'Turkey',\n",
       " 'Ukraine',\n",
       " 'United Kingdom',\n",
       " 'United States',\n",
       " 'Venezuela',\n",
       " 'West Germany',\n",
       " 'Yemen',\n",
       " 'Yugoslavia']"
      ]
     },
     "execution_count": 10,
     "metadata": {},
     "output_type": "execute_result"
    }
   ],
   "source": [
    "killercountries"
   ]
  },
  {
   "cell_type": "code",
   "execution_count": 18,
   "metadata": {},
   "outputs": [],
   "source": [
    "killercountries=[country.strip() for country in killercountries]\n",
    "# wrongcocode=[country.strip() for country in wrongcocode]\n",
    "# wrongpopdens=[country.strip() for country in wrongpopdens]"
   ]
  },
  {
   "cell_type": "code",
   "execution_count": 12,
   "metadata": {},
   "outputs": [],
   "source": [
    "killercountries.sort()\n",
    "# wrongcocode.sort()\n",
    "# wrongpopdens.sort()\n",
    "# killercountries"
   ]
  },
  {
   "cell_type": "code",
   "execution_count": 19,
   "metadata": {},
   "outputs": [],
   "source": [
    "#keys are wrong, values are the correct ones (in killer df)\n",
    "wrongkillercountries={' Angola':'Angola',' Iran':'Iran', ' Iraq':'Iraq', 'Allied-occupied Germany':'Germany','Austria-Hungary':'Hungary',\n",
    "                      'Czechoslovakia':'Czech Republic','East Germany':'Germany','German Empire':'Germany',\n",
    "                      'Kingdom of Romania':'Romania','Ottoman Empire':'Iran','Portuguese Angola':'Angola',\n",
    "                      'West Germany':'Germany', 'Soviet Union':'Ukraine', 'Yugoslavia':'Serbia'}\n",
    "\n",
    "for wrong,right in wrongkillercountries.items():\n",
    "    totalvict['country']=totalvict['country'].str.replace(wrong, right)"
   ]
  },
  {
   "cell_type": "code",
   "execution_count": 23,
   "metadata": {},
   "outputs": [],
   "source": [
    "# sorted(list(totalvict.country.unique()))"
   ]
  },
  {
   "cell_type": "code",
   "execution_count": 24,
   "metadata": {},
   "outputs": [],
   "source": [
    "totalvict.to_csv('..\\\\utils\\\\clean_totalvict.csv')"
   ]
  },
  {
   "cell_type": "markdown",
   "metadata": {},
   "source": [
    "## cleaning countries in pov rate "
   ]
  },
  {
   "cell_type": "code",
   "execution_count": 91,
   "metadata": {},
   "outputs": [
    {
     "data": {
      "text/html": [
       "<div>\n",
       "<style scoped>\n",
       "    .dataframe tbody tr th:only-of-type {\n",
       "        vertical-align: middle;\n",
       "    }\n",
       "\n",
       "    .dataframe tbody tr th {\n",
       "        vertical-align: top;\n",
       "    }\n",
       "\n",
       "    .dataframe thead th {\n",
       "        text-align: right;\n",
       "    }\n",
       "</style>\n",
       "<table border=\"1\" class=\"dataframe\">\n",
       "  <thead>\n",
       "    <tr style=\"text-align: right;\">\n",
       "      <th></th>\n",
       "      <th>name</th>\n",
       "      <th>country</th>\n",
       "      <th>years active</th>\n",
       "      <th>proven victims</th>\n",
       "      <th>possible victims</th>\n",
       "      <th>notes</th>\n",
       "    </tr>\n",
       "  </thead>\n",
       "  <tbody>\n",
       "    <tr>\n",
       "      <th>34</th>\n",
       "      <td>Vera Renczi</td>\n",
       "      <td>Yugoslavia</td>\n",
       "      <td>1920 to 1930</td>\n",
       "      <td>35</td>\n",
       "      <td>~35</td>\n",
       "      <td>Romanian serial killer nicknamed, \"The Black Widow\" convicted of killing 35 men through arsenic poisoning but confessed to only killing 32 victims. Renczi is one of the world's most prolific femal...</td>\n",
       "    </tr>\n",
       "    <tr>\n",
       "      <th>315</th>\n",
       "      <td>Michel Peiry</td>\n",
       "      <td>Yugoslavia</td>\n",
       "      <td>1981 to 1987</td>\n",
       "      <td>5</td>\n",
       "      <td>11</td>\n",
       "      <td>Known as the \"Sadist of Romont\"; Swiss soldier who sexually abused and murdered at least 5 hitchhikers in several countries; sentenced to life imprisonment.</td>\n",
       "    </tr>\n",
       "  </tbody>\n",
       "</table>\n",
       "</div>"
      ],
      "text/plain": [
       "             name     country  years active proven victims possible victims  \\\n",
       "34    Vera Renczi  Yugoslavia  1920 to 1930             35              ~35   \n",
       "315  Michel Peiry  Yugoslavia  1981 to 1987              5               11   \n",
       "\n",
       "                                                                                                                                                                                                       notes  \n",
       "34   Romanian serial killer nicknamed, \"The Black Widow\" convicted of killing 35 men through arsenic poisoning but confessed to only killing 32 victims. Renczi is one of the world's most prolific femal...  \n",
       "315                                             Known as the \"Sadist of Romont\"; Swiss soldier who sexually abused and murdered at least 5 hitchhikers in several countries; sentenced to life imprisonment.  "
      ]
     },
     "execution_count": 91,
     "metadata": {},
     "output_type": "execute_result"
    }
   ],
   "source": [
    "# totalvict[totalvict['country']=='Yugoslavia'] #OUTLIERS: a romanian and a serbian in the US"
   ]
  },
  {
   "cell_type": "code",
   "execution_count": null,
   "metadata": {},
   "outputs": [],
   "source": [
    "#keys are wrong, values are the correct ones (in killer df)\n",
    "wrongpovratecountries={'Korea, Republic of':'South Korea'}\n",
    "\n",
    "for wrong,right in wrongpovratecountries.items():\n",
    "    countrypovrate['country name']=countrypovrate['country name'].str.replace(wrong, right)\n",
    "\n",
    "    #executed in file 1datacleaning"
   ]
  },
  {
   "cell_type": "markdown",
   "metadata": {},
   "source": [
    "## cleaning countries in pop density"
   ]
  },
  {
   "cell_type": "code",
   "execution_count": null,
   "metadata": {},
   "outputs": [],
   "source": [
    "wrongpopdenscountries={'Iran, Islamic Rep.':'Iran','Russian Federation':'Russia','Korea, Rep.':'South Korea',\n",
    "                       'Venezuela, RB':'Venezuela','Yemen, Rep.':'Yemen'}\n",
    "\n",
    "for wrong,right in wrongpovratecountries.items():\n",
    "    popdens['country name']=popdens['country name'].str.replace(wrong, right)\n",
    "\n",
    "#executed in file 1datacleaning"
   ]
  }
 ],
 "metadata": {
  "kernelspec": {
   "display_name": "Python 3",
   "language": "python",
   "name": "python3"
  },
  "language_info": {
   "codemirror_mode": {
    "name": "ipython",
    "version": 3
   },
   "file_extension": ".py",
   "mimetype": "text/x-python",
   "name": "python",
   "nbconvert_exporter": "python",
   "pygments_lexer": "ipython3",
   "version": "3.11.6"
  }
 },
 "nbformat": 4,
 "nbformat_minor": 2
}
