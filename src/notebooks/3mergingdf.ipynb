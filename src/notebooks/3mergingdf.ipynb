{
 "cells": [
  {
   "cell_type": "code",
   "execution_count": 68,
   "metadata": {},
   "outputs": [],
   "source": [
    "import numpy as np\n",
    "import pandas as pd\n",
    "killers = pd.read_csv(\"..\\\\data\\\\cleaned\\\\clean_totalvict.csv\",index_col=0) #killer data\n",
    "popdens = pd.read_csv(\"..\\\\data\\\\cleaned\\\\cleanpopdens.csv\",index_col=0) #population density\n",
    "povrate = pd.read_csv('..\\\\data\\\\cleaned\\\\cleancountrypovrate.csv',index_col=0) #poverty rate"
   ]
  },
  {
   "cell_type": "code",
   "execution_count": 69,
   "metadata": {},
   "outputs": [],
   "source": [
    "pd.set_option('display.max_columns', 10)\n",
    "pd.set_option('display.max_rows', 355)\n",
    "pd.set_option('display.max_colwidth', 200)"
   ]
  },
  {
   "cell_type": "code",
   "execution_count": 70,
   "metadata": {},
   "outputs": [],
   "source": [
    "povrate.rename(columns={'country name':'country'},inplace=True)"
   ]
  },
  {
   "cell_type": "code",
   "execution_count": 71,
   "metadata": {},
   "outputs": [
    {
     "data": {
      "text/html": [
       "<div>\n",
       "<style scoped>\n",
       "    .dataframe tbody tr th:only-of-type {\n",
       "        vertical-align: middle;\n",
       "    }\n",
       "\n",
       "    .dataframe tbody tr th {\n",
       "        vertical-align: top;\n",
       "    }\n",
       "\n",
       "    .dataframe thead th {\n",
       "        text-align: right;\n",
       "    }\n",
       "</style>\n",
       "<table border=\"1\" class=\"dataframe\">\n",
       "  <thead>\n",
       "    <tr style=\"text-align: right;\">\n",
       "      <th></th>\n",
       "      <th>code</th>\n",
       "      <th>mean value</th>\n",
       "      <th>country</th>\n",
       "    </tr>\n",
       "  </thead>\n",
       "  <tbody>\n",
       "    <tr>\n",
       "      <th>0</th>\n",
       "      <td>AUS</td>\n",
       "      <td>0.125000</td>\n",
       "      <td>Australia</td>\n",
       "    </tr>\n",
       "    <tr>\n",
       "      <th>1</th>\n",
       "      <td>AUT</td>\n",
       "      <td>0.096667</td>\n",
       "      <td>Austria</td>\n",
       "    </tr>\n",
       "    <tr>\n",
       "      <th>2</th>\n",
       "      <td>BEL</td>\n",
       "      <td>0.078667</td>\n",
       "      <td>Belgium</td>\n",
       "    </tr>\n",
       "    <tr>\n",
       "      <th>3</th>\n",
       "      <td>CAN</td>\n",
       "      <td>0.106333</td>\n",
       "      <td>Canada</td>\n",
       "    </tr>\n",
       "    <tr>\n",
       "      <th>4</th>\n",
       "      <td>CZE</td>\n",
       "      <td>0.056667</td>\n",
       "      <td>Czech Republic</td>\n",
       "    </tr>\n",
       "  </tbody>\n",
       "</table>\n",
       "</div>"
      ],
      "text/plain": [
       "  code  mean value         country\n",
       "0  AUS    0.125000       Australia\n",
       "1  AUT    0.096667         Austria\n",
       "2  BEL    0.078667         Belgium\n",
       "3  CAN    0.106333          Canada\n",
       "4  CZE    0.056667  Czech Republic"
      ]
     },
     "execution_count": 71,
     "metadata": {},
     "output_type": "execute_result"
    }
   ],
   "source": [
    "povrate.head()"
   ]
  },
  {
   "cell_type": "code",
   "execution_count": 72,
   "metadata": {},
   "outputs": [],
   "source": [
    "povrate['country']=[pov.strip() for pov in povrate['country']]"
   ]
  },
  {
   "cell_type": "code",
   "execution_count": 74,
   "metadata": {},
   "outputs": [],
   "source": [
    "#merged killers df with poverty rate df\n",
    "kill_povrate=killers.merge(povrate, how='left')"
   ]
  },
  {
   "cell_type": "code",
   "execution_count": 75,
   "metadata": {},
   "outputs": [
    {
     "data": {
      "text/plain": [
       "mean value\n",
       "False    205\n",
       "True     150\n",
       "Name: count, dtype: int64"
      ]
     },
     "execution_count": 75,
     "metadata": {},
     "output_type": "execute_result"
    }
   ],
   "source": [
    "kill_povrate['mean value'].isnull().value_counts() #quite a few nans for poverty rate"
   ]
  },
  {
   "cell_type": "code",
   "execution_count": 76,
   "metadata": {},
   "outputs": [],
   "source": [
    "#remove \"code\" column\n",
    "kill_povrate.drop(columns='code', inplace=True)"
   ]
  },
  {
   "cell_type": "code",
   "execution_count": 48,
   "metadata": {},
   "outputs": [],
   "source": [
    "# kill_povrate.head()"
   ]
  },
  {
   "cell_type": "code",
   "execution_count": 77,
   "metadata": {},
   "outputs": [
    {
     "data": {
      "text/html": [
       "<div>\n",
       "<style scoped>\n",
       "    .dataframe tbody tr th:only-of-type {\n",
       "        vertical-align: middle;\n",
       "    }\n",
       "\n",
       "    .dataframe tbody tr th {\n",
       "        vertical-align: top;\n",
       "    }\n",
       "\n",
       "    .dataframe thead th {\n",
       "        text-align: right;\n",
       "    }\n",
       "</style>\n",
       "<table border=\"1\" class=\"dataframe\">\n",
       "  <thead>\n",
       "    <tr style=\"text-align: right;\">\n",
       "      <th></th>\n",
       "      <th>country</th>\n",
       "      <th>density</th>\n",
       "    </tr>\n",
       "  </thead>\n",
       "  <tbody>\n",
       "    <tr>\n",
       "      <th>0</th>\n",
       "      <td>Afghanistan</td>\n",
       "      <td>46.800</td>\n",
       "    </tr>\n",
       "    <tr>\n",
       "      <th>1</th>\n",
       "      <td>Albania</td>\n",
       "      <td>101.230</td>\n",
       "    </tr>\n",
       "    <tr>\n",
       "      <th>2</th>\n",
       "      <td>Algeria</td>\n",
       "      <td>16.460</td>\n",
       "    </tr>\n",
       "    <tr>\n",
       "      <th>3</th>\n",
       "      <td>American Samoa</td>\n",
       "      <td>275.830</td>\n",
       "    </tr>\n",
       "    <tr>\n",
       "      <th>4</th>\n",
       "      <td>Andorra</td>\n",
       "      <td>168.550</td>\n",
       "    </tr>\n",
       "  </tbody>\n",
       "</table>\n",
       "</div>"
      ],
      "text/plain": [
       "          country  density\n",
       "0     Afghanistan   46.800\n",
       "1         Albania  101.230\n",
       "2         Algeria   16.460\n",
       "3  American Samoa  275.830\n",
       "4         Andorra  168.550"
      ]
     },
     "execution_count": 77,
     "metadata": {},
     "output_type": "execute_result"
    }
   ],
   "source": [
    "popdens.head()"
   ]
  },
  {
   "cell_type": "code",
   "execution_count": 80,
   "metadata": {},
   "outputs": [],
   "source": [
    "# sorted(list(popdens['country'].unique()))"
   ]
  },
  {
   "cell_type": "code",
   "execution_count": 81,
   "metadata": {},
   "outputs": [],
   "source": [
    "popdens['country']=[dens.strip() for dens in popdens['country']]"
   ]
  },
  {
   "cell_type": "code",
   "execution_count": 82,
   "metadata": {},
   "outputs": [
    {
     "name": "stdout",
     "output_type": "stream",
     "text": [
      "<class 'pandas.core.frame.DataFrame'>\n",
      "RangeIndex: 355 entries, 0 to 354\n",
      "Data columns (total 8 columns):\n",
      " #   Column            Non-Null Count  Dtype  \n",
      "---  ------            --------------  -----  \n",
      " 0   name              355 non-null    object \n",
      " 1   country           355 non-null    object \n",
      " 2   years active      355 non-null    object \n",
      " 3   proven victims    355 non-null    object \n",
      " 4   possible victims  284 non-null    object \n",
      " 5   notes             355 non-null    object \n",
      " 6   mean value        205 non-null    float64\n",
      " 7   density           315 non-null    object \n",
      "dtypes: float64(1), object(7)\n",
      "memory usage: 22.3+ KB\n"
     ]
    }
   ],
   "source": [
    "#merged killers_povrate df with pop density df\n",
    "dfkillers=kill_povrate.merge(popdens, how='left')\n",
    "dfkillers.info()"
   ]
  },
  {
   "cell_type": "code",
   "execution_count": 79,
   "metadata": {},
   "outputs": [
    {
     "data": {
      "text/html": [
       "<div>\n",
       "<style scoped>\n",
       "    .dataframe tbody tr th:only-of-type {\n",
       "        vertical-align: middle;\n",
       "    }\n",
       "\n",
       "    .dataframe tbody tr th {\n",
       "        vertical-align: top;\n",
       "    }\n",
       "\n",
       "    .dataframe thead th {\n",
       "        text-align: right;\n",
       "    }\n",
       "</style>\n",
       "<table border=\"1\" class=\"dataframe\">\n",
       "  <thead>\n",
       "    <tr style=\"text-align: right;\">\n",
       "      <th></th>\n",
       "      <th>country</th>\n",
       "      <th>density</th>\n",
       "    </tr>\n",
       "  </thead>\n",
       "  <tbody>\n",
       "    <tr>\n",
       "      <th>157</th>\n",
       "      <td>Russian Federation</td>\n",
       "      <td>8.760</td>\n",
       "    </tr>\n",
       "  </tbody>\n",
       "</table>\n",
       "</div>"
      ],
      "text/plain": [
       "                country density\n",
       "157  Russian Federation   8.760"
      ]
     },
     "execution_count": 79,
     "metadata": {},
     "output_type": "execute_result"
    }
   ],
   "source": [
    "#let's add the value manually since the dictionary automation didn't work in this case \n",
    "popdens[popdens['country']=='Russian Federation']"
   ]
  },
  {
   "cell_type": "code",
   "execution_count": 84,
   "metadata": {},
   "outputs": [
    {
     "data": {
      "text/html": [
       "<div>\n",
       "<style scoped>\n",
       "    .dataframe tbody tr th:only-of-type {\n",
       "        vertical-align: middle;\n",
       "    }\n",
       "\n",
       "    .dataframe tbody tr th {\n",
       "        vertical-align: top;\n",
       "    }\n",
       "\n",
       "    .dataframe thead th {\n",
       "        text-align: right;\n",
       "    }\n",
       "</style>\n",
       "<table border=\"1\" class=\"dataframe\">\n",
       "  <thead>\n",
       "    <tr style=\"text-align: right;\">\n",
       "      <th></th>\n",
       "      <th>name</th>\n",
       "      <th>country</th>\n",
       "      <th>years active</th>\n",
       "      <th>proven victims</th>\n",
       "      <th>possible victims</th>\n",
       "      <th>notes</th>\n",
       "      <th>mean value</th>\n",
       "      <th>density</th>\n",
       "    </tr>\n",
       "  </thead>\n",
       "  <tbody>\n",
       "  </tbody>\n",
       "</table>\n",
       "</div>"
      ],
      "text/plain": [
       "Empty DataFrame\n",
       "Columns: [name, country, years active, proven victims, possible victims, notes, mean value, density]\n",
       "Index: []"
      ]
     },
     "execution_count": 84,
     "metadata": {},
     "output_type": "execute_result"
    }
   ],
   "source": [
    "dfkillers[dfkillers['country']=='Russia']"
   ]
  },
  {
   "cell_type": "code",
   "execution_count": 85,
   "metadata": {},
   "outputs": [],
   "source": [
    "dfkillers.loc[dfkillers['country'] == 'Russia', 'density'] = 8760"
   ]
  },
  {
   "cell_type": "code",
   "execution_count": 86,
   "metadata": {},
   "outputs": [],
   "source": [
    "dfkillers.rename(columns={'mean value':'pov rate'},inplace=True)"
   ]
  },
  {
   "cell_type": "code",
   "execution_count": 87,
   "metadata": {},
   "outputs": [
    {
     "data": {
      "text/html": [
       "<div>\n",
       "<style scoped>\n",
       "    .dataframe tbody tr th:only-of-type {\n",
       "        vertical-align: middle;\n",
       "    }\n",
       "\n",
       "    .dataframe tbody tr th {\n",
       "        vertical-align: top;\n",
       "    }\n",
       "\n",
       "    .dataframe thead th {\n",
       "        text-align: right;\n",
       "    }\n",
       "</style>\n",
       "<table border=\"1\" class=\"dataframe\">\n",
       "  <thead>\n",
       "    <tr style=\"text-align: right;\">\n",
       "      <th></th>\n",
       "      <th>name</th>\n",
       "      <th>country</th>\n",
       "      <th>years active</th>\n",
       "      <th>proven victims</th>\n",
       "      <th>possible victims</th>\n",
       "      <th>notes</th>\n",
       "      <th>pov rate</th>\n",
       "      <th>density</th>\n",
       "    </tr>\n",
       "  </thead>\n",
       "  <tbody>\n",
       "    <tr>\n",
       "      <th>0</th>\n",
       "      <td>Luis Garavito</td>\n",
       "      <td>Colombia</td>\n",
       "      <td>1992 to 1999</td>\n",
       "      <td>138</td>\n",
       "      <td>172–300+</td>\n",
       "      <td>Child-murderer, torture-killer, and rapist known as \"La Bestia\" (\"The Beast\"). Confessed to killing 140 boys between eight and 16 years old over a seven-year period in Colombia and neighboring cou...</td>\n",
       "      <td>NaN</td>\n",
       "      <td>43.550</td>\n",
       "    </tr>\n",
       "    <tr>\n",
       "      <th>1</th>\n",
       "      <td>Luis Garavito</td>\n",
       "      <td>Ecuador</td>\n",
       "      <td>1992 to 1999</td>\n",
       "      <td>138</td>\n",
       "      <td>172–300+</td>\n",
       "      <td>Child-murderer, torture-killer, and rapist known as \"La Bestia\" (\"The Beast\"). Confessed to killing 140 boys between eight and 16 years old over a seven-year period in Colombia and neighboring cou...</td>\n",
       "      <td>NaN</td>\n",
       "      <td>63.370</td>\n",
       "    </tr>\n",
       "    <tr>\n",
       "      <th>2</th>\n",
       "      <td>Luis Garavito</td>\n",
       "      <td>Venezuela</td>\n",
       "      <td>1992 to 1999</td>\n",
       "      <td>138</td>\n",
       "      <td>172–300+</td>\n",
       "      <td>Child-murderer, torture-killer, and rapist known as \"La Bestia\" (\"The Beast\"). Confessed to killing 140 boys between eight and 16 years old over a seven-year period in Colombia and neighboring cou...</td>\n",
       "      <td>NaN</td>\n",
       "      <td>NaN</td>\n",
       "    </tr>\n",
       "    <tr>\n",
       "      <th>3</th>\n",
       "      <td>Pedro López</td>\n",
       "      <td>Colombia</td>\n",
       "      <td>1969 to 1979</td>\n",
       "      <td>110</td>\n",
       "      <td>300+</td>\n",
       "      <td>Child-murderer and rapist, known as \"The Monster of the Andes\". Targeted young girls, between the ages of eight and 12. Arrested in 1980 and convicted in 1983 of killing three young girls, but cla...</td>\n",
       "      <td>NaN</td>\n",
       "      <td>43.550</td>\n",
       "    </tr>\n",
       "    <tr>\n",
       "      <th>4</th>\n",
       "      <td>Pedro López</td>\n",
       "      <td>Peru</td>\n",
       "      <td>1969 to 1979</td>\n",
       "      <td>110</td>\n",
       "      <td>300+</td>\n",
       "      <td>Child-murderer and rapist, known as \"The Monster of the Andes\". Targeted young girls, between the ages of eight and 12. Arrested in 1980 and convicted in 1983 of killing three young girls, but cla...</td>\n",
       "      <td>NaN</td>\n",
       "      <td>23.730</td>\n",
       "    </tr>\n",
       "  </tbody>\n",
       "</table>\n",
       "</div>"
      ],
      "text/plain": [
       "            name    country  years active proven victims possible victims  \\\n",
       "0  Luis Garavito   Colombia  1992 to 1999            138         172–300+   \n",
       "1  Luis Garavito    Ecuador  1992 to 1999            138         172–300+   \n",
       "2  Luis Garavito  Venezuela  1992 to 1999            138         172–300+   \n",
       "3    Pedro López   Colombia  1969 to 1979            110             300+   \n",
       "4    Pedro López       Peru  1969 to 1979            110             300+   \n",
       "\n",
       "                                                                                                                                                                                                     notes  \\\n",
       "0  Child-murderer, torture-killer, and rapist known as \"La Bestia\" (\"The Beast\"). Confessed to killing 140 boys between eight and 16 years old over a seven-year period in Colombia and neighboring cou...   \n",
       "1  Child-murderer, torture-killer, and rapist known as \"La Bestia\" (\"The Beast\"). Confessed to killing 140 boys between eight and 16 years old over a seven-year period in Colombia and neighboring cou...   \n",
       "2  Child-murderer, torture-killer, and rapist known as \"La Bestia\" (\"The Beast\"). Confessed to killing 140 boys between eight and 16 years old over a seven-year period in Colombia and neighboring cou...   \n",
       "3  Child-murderer and rapist, known as \"The Monster of the Andes\". Targeted young girls, between the ages of eight and 12. Arrested in 1980 and convicted in 1983 of killing three young girls, but cla...   \n",
       "4  Child-murderer and rapist, known as \"The Monster of the Andes\". Targeted young girls, between the ages of eight and 12. Arrested in 1980 and convicted in 1983 of killing three young girls, but cla...   \n",
       "\n",
       "   pov rate density  \n",
       "0       NaN  43.550  \n",
       "1       NaN  63.370  \n",
       "2       NaN     NaN  \n",
       "3       NaN  43.550  \n",
       "4       NaN  23.730  "
      ]
     },
     "execution_count": 87,
     "metadata": {},
     "output_type": "execute_result"
    }
   ],
   "source": [
    "dfkillers.head()"
   ]
  },
  {
   "cell_type": "code",
   "execution_count": 88,
   "metadata": {},
   "outputs": [],
   "source": [
    "dfkillers['country']=[country.strip() for country in dfkillers['country']]\n",
    "# wrongcocode=[country.strip() for country in wrongcocode]\n",
    "# wrongpopdens=[country.strip() for country in wrongpopdens]"
   ]
  },
  {
   "cell_type": "code",
   "execution_count": 90,
   "metadata": {},
   "outputs": [],
   "source": [
    "dfkillers.to_csv(\"..\\\\data\\\\cleaned\\\\eda_df.csv\")"
   ]
  },
  {
   "cell_type": "code",
   "execution_count": 91,
   "metadata": {},
   "outputs": [
    {
     "data": {
      "text/plain": [
       "205"
      ]
     },
     "execution_count": 91,
     "metadata": {},
     "output_type": "execute_result"
    }
   ],
   "source": [
    "len(dfkillers[(dfkillers['pov rate'].notnull())])"
   ]
  },
  {
   "cell_type": "code",
   "execution_count": 93,
   "metadata": {},
   "outputs": [
    {
     "data": {
      "text/plain": [
       "array(['Colombia', 'Ecuador', 'Venezuela', 'Peru', 'Pakistan', 'Russia',\n",
       "       'Brazil', 'India', 'China', 'United States', 'Italy', 'Ukraine',\n",
       "       'Canada', 'Indonesia', 'South Africa', 'Morocco', 'Romania',\n",
       "       'Serbia', 'Hungary', 'Iran', 'Iraq', 'Mexico', 'Egypt', 'Germany',\n",
       "       'Swaziland', 'Greece', 'United Kingdom', 'France', 'Switzerland',\n",
       "       'Tajikistan', 'South Korea', 'Afghanistan', 'Costa Rica', 'Latvia',\n",
       "       'Turkey', 'Belgium', 'Spain', 'Argentina', 'Poland', 'Chile',\n",
       "       'Tunisia', 'Thailand', 'Nepal', 'Malaysia', 'Yemen', 'Japan',\n",
       "       'Australia', 'Austria', 'Czech Republic', 'Bangladesh', 'Denmark',\n",
       "       'Cyprus', 'Belarus', 'Angola', 'Singapore', 'Ireland',\n",
       "       'Netherlands'], dtype=object)"
      ]
     },
     "execution_count": 93,
     "metadata": {},
     "output_type": "execute_result"
    }
   ],
   "source": [
    "dfkillers['country'].unique()"
   ]
  },
  {
   "cell_type": "code",
   "execution_count": 99,
   "metadata": {},
   "outputs": [
    {
     "data": {
      "text/plain": [
       "201"
      ]
     },
     "execution_count": 99,
     "metadata": {},
     "output_type": "execute_result"
    }
   ],
   "source": [
    "len(dfkillers[(dfkillers['density'].notnull()) & (dfkillers['pov rate'].notnull())])\n",
    "#201 killers with both data\n",
    "#pov rate: 205 values, 150 nan\n",
    "#density: 342 values, 13 nan"
   ]
  },
  {
   "cell_type": "code",
   "execution_count": 94,
   "metadata": {},
   "outputs": [],
   "source": [
    "notnullkillers=dfkillers[(dfkillers['density'].notnull()) & (dfkillers['pov rate'].notnull())]\n",
    "notnullkillers.to_csv(\"..\\\\data\\\\cleaned\\\\notnull_df.csv\")"
   ]
  }
 ],
 "metadata": {
  "kernelspec": {
   "display_name": "Python 3",
   "language": "python",
   "name": "python3"
  },
  "language_info": {
   "codemirror_mode": {
    "name": "ipython",
    "version": 3
   },
   "file_extension": ".py",
   "mimetype": "text/x-python",
   "name": "python",
   "nbconvert_exporter": "python",
   "pygments_lexer": "ipython3",
   "version": "3.11.6"
  }
 },
 "nbformat": 4,
 "nbformat_minor": 2
}
